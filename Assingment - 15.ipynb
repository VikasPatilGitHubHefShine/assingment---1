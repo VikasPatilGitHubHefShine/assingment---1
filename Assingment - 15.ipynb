{
 "cells": [
  {
   "cell_type": "code",
   "execution_count": 10,
   "id": "ecb62e7f",
   "metadata": {},
   "outputs": [
    {
     "name": "stdout",
     "output_type": "stream",
     "text": [
      "<class 'str'>\n",
      "<class 'str'>\n",
      "<class 'str'>\n",
      "<class 'str'>\n"
     ]
    }
   ],
   "source": [
    "# (1) Write a python script to create a string in 3 different possible ways.\n",
    "\n",
    "A = \"iNeuron\"\n",
    "B = 'iNeuron'\n",
    "C = '''iNeuron'''\n",
    "D = \"\"\"iNeuron\"\"\"\n",
    "\n",
    "print(type(A))\n",
    "print(type(B))\n",
    "print(type(C))\n",
    "print(type(D))"
   ]
  },
  {
   "cell_type": "code",
   "execution_count": 12,
   "id": "a4c8890a",
   "metadata": {},
   "outputs": [
    {
     "name": "stdout",
     "output_type": "stream",
     "text": [
      "iNeur\n"
     ]
    }
   ],
   "source": [
    "# (2) Write a python script to get the characters from the start to position 5 (Given string \"iNeuron\" using the slice syntax)\n",
    "\n",
    "string = \"iNeuron\"\n",
    "\n",
    "print(string[:5])"
   ]
  },
  {
   "cell_type": "code",
   "execution_count": 13,
   "id": "776d70de",
   "metadata": {},
   "outputs": [
    {
     "name": "stdout",
     "output_type": "stream",
     "text": [
      "eur\n"
     ]
    }
   ],
   "source": [
    "# (3) Write a python script to get the cheracters from position 2 to position 5 (Given string \"Hello Learners\" using the slicing syntax)\n",
    "\n",
    "string = \"iNeuron\"\n",
    "\n",
    "print(string[2:5])"
   ]
  },
  {
   "cell_type": "code",
   "execution_count": 14,
   "id": "73d07d86",
   "metadata": {},
   "outputs": [
    {
     "name": "stdout",
     "output_type": "stream",
     "text": [
      "Learning Python\n"
     ]
    }
   ],
   "source": [
    "# (4) Wrte a python script to demostrate string Concatenation adding space between (Given string A = \"Learning\", B= \"Python\")\n",
    "\n",
    "A = \"Learning \"\n",
    "B = \"Python\"\n",
    "\n",
    "print(A + B)"
   ]
  },
  {
   "cell_type": "code",
   "execution_count": 18,
   "id": "9e5d0b10",
   "metadata": {},
   "outputs": [
    {
     "name": "stdout",
     "output_type": "stream",
     "text": [
      "7\n"
     ]
    }
   ],
   "source": [
    "# (5) Write a python script to get the count of total number of caracters in string A = \"iNeuron\"\n",
    "\n",
    "A = \"iNeuron\"\n",
    "\n",
    "print(len(A))"
   ]
  },
  {
   "cell_type": "code",
   "execution_count": 19,
   "id": "d96b4158",
   "metadata": {},
   "outputs": [
    {
     "name": "stdout",
     "output_type": "stream",
     "text": [
      "Enter  a string: vikas\n",
      "vikas\n",
      "<class 'str'>\n"
     ]
    }
   ],
   "source": [
    "# (6) Write a python script to resive a string. (\"iNeuron\")\n",
    "\n",
    "string = str(input(\"Enter  a string: \"))\n",
    "\n",
    "print(string)\n",
    "print(type(string))"
   ]
  },
  {
   "cell_type": "code",
   "execution_count": 23,
   "id": "73d304a5",
   "metadata": {},
   "outputs": [
    {
     "name": "stdout",
     "output_type": "stream",
     "text": [
      "Faund!\n"
     ]
    }
   ],
   "source": [
    "# (7) Write a python script to determine wether a string contains a specific substring.\n",
    "\n",
    "fullstring = \"iNeuron\"\n",
    "string = \"euro\"\n",
    "\n",
    "if string in fullstring:\n",
    "    print(\"Faund!\")\n",
    "else:\n",
    "    print(\"Not faund!\")"
   ]
  },
  {
   "cell_type": "code",
   "execution_count": 27,
   "id": "48504f5e",
   "metadata": {},
   "outputs": [
    {
     "name": "stdout",
     "output_type": "stream",
     "text": [
      "Enter a string contain only numbers: 1324656\n",
      "\n",
      "The string contain only numbers\n"
     ]
    }
   ],
   "source": [
    "# (8) Write a python script to check if a string contain only numbers.\n",
    "\n",
    "txt = (input(\"Enter a string contain only numbers: \"))\n",
    "\n",
    "if txt.isnumeric():\n",
    "    print(\"\\nThe string contain only numbers\")\n",
    "else:\n",
    "    print(\"\\nPlease enetr only numbers\")"
   ]
  },
  {
   "cell_type": "code",
   "execution_count": 28,
   "id": "fc0badb6",
   "metadata": {},
   "outputs": [
    {
     "name": "stdout",
     "output_type": "stream",
     "text": [
      "Enter a string contain only allphabedsvikas\n",
      "\n",
      "The string contain only alphabeds\n"
     ]
    }
   ],
   "source": [
    "# (9) Write a python script to check if a string contains only characters of the alphabet.\n",
    "\n",
    "alpha = input(\"Enter a string contain only allphabeds\")\n",
    "\n",
    "if alpha.isalpha():\n",
    "    print(\"\\nThe string contain only alphabeds\")\n",
    "else:\n",
    "    print(\"\\nPlease enter the correct string\")"
   ]
  },
  {
   "cell_type": "code",
   "execution_count": 22,
   "id": "69222845",
   "metadata": {},
   "outputs": [
    {
     "data": {
      "text/plain": [
       "'123456'"
      ]
     },
     "execution_count": 22,
     "metadata": {},
     "output_type": "execute_result"
    }
   ],
   "source": [
    "# (10) Write a python script to convert an integer to a string.\n",
    "\n",
    "integer = 123456\n",
    "string = str(123456)\n",
    "string"
   ]
  }
 ],
 "metadata": {
  "kernelspec": {
   "display_name": "Python 3 (ipykernel)",
   "language": "python",
   "name": "python3"
  },
  "language_info": {
   "codemirror_mode": {
    "name": "ipython",
    "version": 3
   },
   "file_extension": ".py",
   "mimetype": "text/x-python",
   "name": "python",
   "nbconvert_exporter": "python",
   "pygments_lexer": "ipython3",
   "version": "3.9.7"
  }
 },
 "nbformat": 4,
 "nbformat_minor": 5
}
