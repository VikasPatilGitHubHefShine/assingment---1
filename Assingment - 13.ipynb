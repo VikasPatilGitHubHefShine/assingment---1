{
 "cells": [
  {
   "cell_type": "code",
   "execution_count": 1,
   "id": "37cd8f23",
   "metadata": {},
   "outputs": [],
   "source": [
    "#                          LIST"
   ]
  },
  {
   "cell_type": "code",
   "execution_count": 2,
   "id": "502593a0",
   "metadata": {},
   "outputs": [
    {
     "name": "stdout",
     "output_type": "stream",
     "text": [
      "['JAVA', 'Python', 'SQL', 'C']\n"
     ]
    }
   ],
   "source": [
    "# (1) Write a python script to store multiple items in a single variable(items are \"java\", \"python\", \"SQL\", \"C\") using list\n",
    "\n",
    "A = [\"JAVA\", \"Python\", \"SQL\", \"C\"]\n",
    "\n",
    "print(A)"
   ]
  },
  {
   "cell_type": "code",
   "execution_count": 3,
   "id": "98b54ba1",
   "metadata": {},
   "outputs": [
    {
     "data": {
      "text/plain": [
       "list"
      ]
     },
     "execution_count": 3,
     "metadata": {},
     "output_type": "execute_result"
    }
   ],
   "source": [
    "# (2) Write a python script to get the data type of a list.\n",
    "\n",
    "A = [\"JAVA\", \"Python\", \"SQL\", \"C\"]\n",
    "\n",
    "type(A)"
   ]
  },
  {
   "cell_type": "code",
   "execution_count": 4,
   "id": "f6c82f45",
   "metadata": {},
   "outputs": [
    {
     "data": {
      "text/plain": [
       "'Python'"
      ]
     },
     "execution_count": 4,
     "metadata": {},
     "output_type": "execute_result"
    }
   ],
   "source": [
    "# (3) Write a python script to get the last item of the list(mylist = [\"JAVA\", \"C\", \"Python\"])\n",
    "\n",
    "mylist = [\"JAVA\", \"C\", \"Python\"]\n",
    "\n",
    "mylist[-1]"
   ]
  },
  {
   "cell_type": "code",
   "execution_count": 2,
   "id": "cefd9f16",
   "metadata": {},
   "outputs": [],
   "source": [
    "# (4) Write a python scrite to change the value \"SQL\" and \"Reacinative\" with the values \"NoSQL\" and \"Flutter\"(List is thislist = [\"JAVA\",\"SQL\",\"C\", \"Reacinative\",\"javascript\",\"python\"])\n",
    "\n",
    "list = [\"JAVA\",\"SQL\",\"C\", \"Reacinative\",\"javascript\",\"python\"]\n",
    "\n",
    "list.remove(\"SQL\")"
   ]
  },
  {
   "cell_type": "code",
   "execution_count": 3,
   "id": "06036ae8",
   "metadata": {},
   "outputs": [
    {
     "data": {
      "text/plain": [
       "['JAVA', 'C', 'Reacinative', 'javascript', 'python']"
      ]
     },
     "execution_count": 3,
     "metadata": {},
     "output_type": "execute_result"
    }
   ],
   "source": [
    "list"
   ]
  },
  {
   "cell_type": "code",
   "execution_count": 4,
   "id": "594dfcf0",
   "metadata": {},
   "outputs": [],
   "source": [
    "list.remove(\"Reacinative\")"
   ]
  },
  {
   "cell_type": "code",
   "execution_count": 5,
   "id": "9b2268bf",
   "metadata": {},
   "outputs": [
    {
     "data": {
      "text/plain": [
       "['JAVA', 'C', 'javascript', 'python']"
      ]
     },
     "execution_count": 5,
     "metadata": {},
     "output_type": "execute_result"
    }
   ],
   "source": [
    "list\n"
   ]
  },
  {
   "cell_type": "code",
   "execution_count": 6,
   "id": "409857f4",
   "metadata": {},
   "outputs": [],
   "source": [
    "list.insert(1,\"NoSQL\")"
   ]
  },
  {
   "cell_type": "code",
   "execution_count": 7,
   "id": "1dc7a557",
   "metadata": {},
   "outputs": [
    {
     "data": {
      "text/plain": [
       "['JAVA', 'NoSQL', 'C', 'javascript', 'python']"
      ]
     },
     "execution_count": 7,
     "metadata": {},
     "output_type": "execute_result"
    }
   ],
   "source": [
    "list"
   ]
  },
  {
   "cell_type": "code",
   "execution_count": 8,
   "id": "f791e3bd",
   "metadata": {},
   "outputs": [],
   "source": [
    "list.insert(3,\"Flutter\")"
   ]
  },
  {
   "cell_type": "code",
   "execution_count": 9,
   "id": "9bd777fe",
   "metadata": {},
   "outputs": [
    {
     "data": {
      "text/plain": [
       "['JAVA', 'NoSQL', 'C', 'Flutter', 'javascript', 'python']"
      ]
     },
     "execution_count": 9,
     "metadata": {},
     "output_type": "execute_result"
    }
   ],
   "source": [
    "list"
   ]
  },
  {
   "cell_type": "code",
   "execution_count": 10,
   "id": "456a0b59",
   "metadata": {},
   "outputs": [],
   "source": [
    "# (5) Write a python script to add an item to the end of the list (List is thislist = [\"JAVA\",\"SQL\",\"C\", \"Reacinative\",\"javascript\",\"python\"])\n",
    "\n",
    "list = [\"JAVA\",\"SQL\",\"C\", \"Reacinative\",\"javascript\",\"python\"]\n",
    "list.append(\"C++\")"
   ]
  },
  {
   "cell_type": "code",
   "execution_count": 11,
   "id": "ba653ca9",
   "metadata": {},
   "outputs": [
    {
     "data": {
      "text/plain": [
       "['JAVA', 'SQL', 'C', 'Reacinative', 'javascript', 'python', 'C++']"
      ]
     },
     "execution_count": 11,
     "metadata": {},
     "output_type": "execute_result"
    }
   ],
   "source": [
    "list"
   ]
  },
  {
   "cell_type": "code",
   "execution_count": 12,
   "id": "d45e9398",
   "metadata": {},
   "outputs": [],
   "source": [
    "# (6) Write a python program to append elements from another list to the current list.\n",
    "# (A = [\"JAVA\",\"Python\",\"SQL\"],  B = [\"C\",\"Cpp\",\"NoSQL\"])\n",
    "\n",
    "A = [\"JAVA\",\"Python\",\"SQL\"]\n",
    " \n",
    "B = [\"C\",\"Cpp\",\"NoSQL\"]\n",
    "\n",
    "B.append(A)"
   ]
  },
  {
   "cell_type": "code",
   "execution_count": 13,
   "id": "95a4c8d8",
   "metadata": {},
   "outputs": [
    {
     "data": {
      "text/plain": [
       "['C', 'Cpp', 'NoSQL', ['JAVA', 'Python', 'SQL']]"
      ]
     },
     "execution_count": 13,
     "metadata": {},
     "output_type": "execute_result"
    }
   ],
   "source": [
    "B"
   ]
  },
  {
   "cell_type": "code",
   "execution_count": 15,
   "id": "a609df5c",
   "metadata": {},
   "outputs": [
    {
     "name": "stdout",
     "output_type": "stream",
     "text": [
      "0 JAVA\n",
      "1 SQL\n",
      "2 C\n",
      "3 Reactnative\n",
      "4 JAVAscript\n",
      "5 Python\n"
     ]
    }
   ],
   "source": [
    "# (7) Write a python program to print all items by referring to their index number.\n",
    "\n",
    "A = [\"JAVA\",\"SQL\",\"C\",\"Reactnative\",\"JAVAscript\",\"Python\"]\n",
    "\n",
    "\n",
    "for j in (A):\n",
    "    print(A.index(j),j)"
   ]
  },
  {
   "cell_type": "code",
   "execution_count": 20,
   "id": "643088d0",
   "metadata": {},
   "outputs": [],
   "source": [
    "# (8) Write a python program to sort the list alphanumerically\n",
    "\n",
    "A = [\"JAVA\",\"SQL\",\"C\",\"Reactnative\",\"JAVAscript\",\"Python\"]\n",
    "A.sort()"
   ]
  },
  {
   "cell_type": "code",
   "execution_count": 21,
   "id": "d4c2c9ed",
   "metadata": {},
   "outputs": [
    {
     "data": {
      "text/plain": [
       "['C', 'JAVA', 'JAVAscript', 'Python', 'Reactnative', 'SQL']"
      ]
     },
     "execution_count": 21,
     "metadata": {},
     "output_type": "execute_result"
    }
   ],
   "source": [
    "A"
   ]
  },
  {
   "cell_type": "code",
   "execution_count": 22,
   "id": "6b637722",
   "metadata": {},
   "outputs": [
    {
     "name": "stdout",
     "output_type": "stream",
     "text": [
      "Enter the city name ceparated by space: amalner jalgaon dhule takarkheda dharngaon\n",
      "list:  ['amalner', 'jalgaon', 'dhule', 'takarkheda', 'dharngaon']\n"
     ]
    }
   ],
   "source": [
    "# (9) Write a python script to create to create a list of city names taken from the user.\n",
    "city = input(\"Enter the city name ceparated by space: \").split()\n",
    "\n",
    "print(\"list: \",city)"
   ]
  },
  {
   "cell_type": "code",
   "execution_count": null,
   "id": "c674c7af",
   "metadata": {},
   "outputs": [],
   "source": [
    "# (10) Write a python script to create a list, where each element of the list is a digit of a given number\n",
    "\n"
   ]
  }
 ],
 "metadata": {
  "kernelspec": {
   "display_name": "Python 3 (ipykernel)",
   "language": "python",
   "name": "python3"
  },
  "language_info": {
   "codemirror_mode": {
    "name": "ipython",
    "version": 3
   },
   "file_extension": ".py",
   "mimetype": "text/x-python",
   "name": "python",
   "nbconvert_exporter": "python",
   "pygments_lexer": "ipython3",
   "version": "3.9.7"
  }
 },
 "nbformat": 4,
 "nbformat_minor": 5
}
