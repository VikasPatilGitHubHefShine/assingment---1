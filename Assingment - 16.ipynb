{
 "cells": [
  {
   "cell_type": "code",
   "execution_count": 10,
   "id": "d69ace2d",
   "metadata": {},
   "outputs": [
    {
     "name": "stdout",
     "output_type": "stream",
     "text": [
      "<class 'tuple'>\n"
     ]
    }
   ],
   "source": [
    "# (1) Write a python script to store multiple items in a single variable. (Items are \"JAVA\",\"PYTHON\",\"SQL\",\"C\") USIND TUPLE\n",
    "\n",
    "tuple_1 = (\"JAVA\",\"PYTHON\",\"SQL\",\"C\")\n",
    "\n",
    "print(type(tuple_1))"
   ]
  },
  {
   "cell_type": "code",
   "execution_count": 11,
   "id": "28657fd4",
   "metadata": {},
   "outputs": [
    {
     "name": "stdout",
     "output_type": "stream",
     "text": [
      "<class 'tuple'>\n"
     ]
    }
   ],
   "source": [
    "# (2) Write a python program to store only one item using tuple.\n",
    "\n",
    "tuple_1 = (\"JAVA\",)\n",
    "\n",
    "print(type(tuple_1))"
   ]
  },
  {
   "cell_type": "code",
   "execution_count": 13,
   "id": "6d3fc620",
   "metadata": {},
   "outputs": [
    {
     "name": "stdout",
     "output_type": "stream",
     "text": [
      "('C', 'SQL', 'PYTHON', 'JAVA')\n"
     ]
    }
   ],
   "source": [
    "# (3) Write a python to reverse the tuple.\n",
    "\n",
    "tuple_1 = (\"JAVA\",\"PYTHON\",\"SQL\",\"C\")\n",
    "\n",
    "print(tuple_1[::-1])"
   ]
  },
  {
   "cell_type": "code",
   "execution_count": 19,
   "id": "fb194b08",
   "metadata": {},
   "outputs": [
    {
     "name": "stdout",
     "output_type": "stream",
     "text": [
      "tuple_1 =  ('JAVA', 'PYTHON', 'SQL', 'C')\n",
      "tuple_2 =  ('C', 'SQL', 'PYTHON', 'JAVA')\n"
     ]
    }
   ],
   "source": [
    "# (4) Write a python program to swap two tuples in python.\n",
    "\n",
    "tuple_1 = ('C', 'SQL', 'PYTHON', 'JAVA')\n",
    "tuple_2 = (\"JAVA\",\"PYTHON\",\"SQL\",\"C\")\n",
    "\n",
    "tuple_2, tuple_1 = tuple_1, tuple_2\n",
    "\n",
    "print(\"tuple_1 = \",tuple_1)\n",
    "print(\"tuple_2 = \",tuple_2)"
   ]
  },
  {
   "cell_type": "code",
   "execution_count": 23,
   "id": "a508d569",
   "metadata": {},
   "outputs": [
    {
     "name": "stdout",
     "output_type": "stream",
     "text": [
      "Elements are not equal\n"
     ]
    }
   ],
   "source": [
    "# (5) Write a python prgram to check if all items in the tuple are the same.\n",
    "\n",
    "tuple_1 = ('Mon','Mon','Mon','Mo')\n",
    "\n",
    "result = tuple_1.count(tuple_1[0]) == len(tuple_1)\n",
    "\n",
    "if (result):\n",
    "   print(\"All the elements are Equal\")\n",
    "else:\n",
    "   print(\"Elements are not equal\")"
   ]
  },
  {
   "cell_type": "code",
   "execution_count": 1,
   "id": "22adc516",
   "metadata": {},
   "outputs": [
    {
     "name": "stdout",
     "output_type": "stream",
     "text": [
      "50.0\n",
      "100.0\n",
      "150.0\n",
      "200.0\n"
     ]
    }
   ],
   "source": [
    "# (6) Write a python program to divide the tuple variables.\n",
    "\n",
    "tuple_1 = (100,200,300,400)\n",
    "\n",
    "for i in tuple_1:\n",
    "    print(i/2)"
   ]
  },
  {
   "cell_type": "code",
   "execution_count": 6,
   "id": "fade511c",
   "metadata": {},
   "outputs": [
    {
     "name": "stdout",
     "output_type": "stream",
     "text": [
      "(4, 5)\n"
     ]
    }
   ],
   "source": [
    "# (7) Write a python program to copy elements 4 and 5 from the following tuple into a new tuple.\n",
    "\n",
    "tuple_1 = (1,2,3,4,5,6,)\n",
    "\n",
    "tuple_2 = tuple_1[3:-1]\n",
    "\n",
    "print(tuple_2)"
   ]
  },
  {
   "cell_type": "code",
   "execution_count": 11,
   "id": "d40e3367",
   "metadata": {},
   "outputs": [
    {
     "name": "stdout",
     "output_type": "stream",
     "text": [
      "[('a', 21), ('b', 11), ('c', 37), ('d', 29)]\n"
     ]
    }
   ],
   "source": [
    "#(8) Write a python program to sort a tuple of tuples by the second item.\n",
    "\n",
    "tuple_1 = (('a',21),('c',37),('b',11),('d',29))\n",
    "\n",
    "tuple_2 = sorted(tuple_1)\n",
    "\n",
    "print(tuple_2)\n"
   ]
  },
  {
   "cell_type": "code",
   "execution_count": 21,
   "id": "4d1bbc55",
   "metadata": {},
   "outputs": [
    {
     "name": "stdout",
     "output_type": "stream",
     "text": [
      "(11, [222, 33], 44, 55)\n"
     ]
    }
   ],
   "source": [
    "# (9) Write a python program to change the first item (22) of a list within thr followinng tuple to 222.\n",
    "\n",
    "tuple_1 = (11,[22,33],44,55)\n",
    "\n",
    "tuple_2 = list(tuple_1)\n",
    "\n",
    "tuple_2[1][0] = 222\n",
    "\n",
    "tuple_1 = tuple(tuple_2)\n",
    "\n",
    "print(tuple_1)"
   ]
  },
  {
   "cell_type": "code",
   "execution_count": 24,
   "id": "58e326a2",
   "metadata": {},
   "outputs": [
    {
     "name": "stdout",
     "output_type": "stream",
     "text": [
      "20\n"
     ]
    }
   ],
   "source": [
    "# (10) Write a python program to print the vallue 20 from the given nested tuple.\n",
    "\n",
    "tuple_1 = (\"Python\",[100,20,30],(2,4,16))\n",
    "\n",
    "print(tuple_1[1][1])"
   ]
  },
  {
   "cell_type": "code",
   "execution_count": null,
   "id": "e2d7f8cd",
   "metadata": {},
   "outputs": [],
   "source": []
  }
 ],
 "metadata": {
  "kernelspec": {
   "display_name": "Python 3 (ipykernel)",
   "language": "python",
   "name": "python3"
  },
  "language_info": {
   "codemirror_mode": {
    "name": "ipython",
    "version": 3
   },
   "file_extension": ".py",
   "mimetype": "text/x-python",
   "name": "python",
   "nbconvert_exporter": "python",
   "pygments_lexer": "ipython3",
   "version": "3.9.7"
  }
 },
 "nbformat": 4,
 "nbformat_minor": 5
}
