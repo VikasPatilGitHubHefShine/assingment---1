{
 "cells": [
  {
   "cell_type": "code",
   "execution_count": 14,
   "id": "7b9a90d9",
   "metadata": {},
   "outputs": [
    {
     "name": "stdout",
     "output_type": "stream",
     "text": [
      "{'C', 'C++', 'Python', 'JAVA'}\n"
     ]
    }
   ],
   "source": [
    "# (1) Write a python program to store all the programming languages known to you using set.\n",
    "\n",
    "my_set = {\"Python\",\"JAVA\",\"C\",\"C++\",\"SQL\"}\n",
    "\n",
    "print(my_set)"
   ]
  },
  {
   "cell_type": "code",
   "execution_count": 15,
   "id": "29eb030d",
   "metadata": {},
   "outputs": [
    {
     "name": "stdout",
     "output_type": "stream",
     "text": [
      "{'name=vikas', 'roll=56', 'age=23', 'divisio=B', 'gender=male'}\n"
     ]
    }
   ],
   "source": [
    "# (2) Write a python program to store your own information.\n",
    "\n",
    "my_detail = {\"name=vikas\",\"age=23\",\"gender=male\",\"roll=56\",\"divisio=B\"}\n",
    "\n",
    "print(my_detail)"
   ]
  },
  {
   "cell_type": "code",
   "execution_count": 16,
   "id": "5a24dac7",
   "metadata": {},
   "outputs": [
    {
     "name": "stdout",
     "output_type": "stream",
     "text": [
      "Enter your name:vikas\n",
      "<class 'set'>\n"
     ]
    }
   ],
   "source": [
    "# (3) Write a python script to get a data type of a set.\n",
    "\n",
    "name = set(input(\"Enter your name:\"))\n",
    "\n",
    "print(type(name))"
   ]
  },
  {
   "cell_type": "code",
   "execution_count": 21,
   "id": "5279185b",
   "metadata": {},
   "outputs": [
    {
     "name": "stdout",
     "output_type": "stream",
     "text": [
      "True\n"
     ]
    }
   ],
   "source": [
    "# (4) Write a python script to find if \"Python\" is present in the set thisset = {\"JAVA\",\"Python\",\"Django\"}\n",
    "\n",
    "thisset = {\"JAVA\",\"Python\",\"Django\"}\n",
    "\n",
    "print(\"Python\" in thisset)"
   ]
  },
  {
   "cell_type": "code",
   "execution_count": 22,
   "id": "b407f104",
   "metadata": {},
   "outputs": [
    {
     "name": "stdout",
     "output_type": "stream",
     "text": [
      "{'SQL', 'Python', 'JAVA'}\n"
     ]
    }
   ],
   "source": [
    "# (5) Write a python program to add items from another set to the current set. thisset = {\"JAVA\",\"Python\",\"SQL\"}\n",
    "\n",
    "thisset = {\"JAVA\",\"Python\",\"SQL\"}\n",
    "\n",
    "new_set = thisset\n",
    "\n",
    "print(new_set)"
   ]
  },
  {
   "cell_type": "code",
   "execution_count": 35,
   "id": "f1e2f04d",
   "metadata": {},
   "outputs": [
    {
     "name": "stdout",
     "output_type": "stream",
     "text": [
      "{'SQL', 'C', 'Python', 'JAVA'}\n"
     ]
    }
   ],
   "source": [
    "# (6) Write a python program to add elements of list to a set.\n",
    "\n",
    "thisset = {\"JAVA\",\"Python\",\"SQL\"}\n",
    "mylist = [\"JAVA\",\"C\"]\n",
    "\n",
    "thisset.update(mylist)\n",
    "print(thisset)"
   ]
  },
  {
   "cell_type": "code",
   "execution_count": 37,
   "id": "621221f5",
   "metadata": {},
   "outputs": [
    {
     "name": "stdout",
     "output_type": "stream",
     "text": [
      "{'python', 'JavaScript', 'Django'}\n"
     ]
    }
   ],
   "source": [
    "# (7) Write a python program to remove last item of the given set.\n",
    "\n",
    "thisset = {\"python\",\"Django\",\"JavaScript\",\"SQL\"}\n",
    "thisset.remove(\"SQL\")\n",
    "\n",
    "print(thisset)"
   ]
  },
  {
   "cell_type": "code",
   "execution_count": 1,
   "id": "32e1642c",
   "metadata": {},
   "outputs": [
    {
     "name": "stdout",
     "output_type": "stream",
     "text": [
      "set()\n"
     ]
    }
   ],
   "source": [
    "# (8) Write a python program to delete the set completely.\n",
    "\n",
    "thisset = {\"python\",\"Django\",\"JavaScript\",\"SQL\"}\n",
    "\n",
    "thisset.clear()\n",
    "print(thisset)"
   ]
  },
  {
   "cell_type": "code",
   "execution_count": 2,
   "id": "c9c44774",
   "metadata": {},
   "outputs": [
    {
     "name": "stdout",
     "output_type": "stream",
     "text": [
      "value thisset: SQL\n",
      "value thisset: Jvascript\n",
      "value thisset: Django\n",
      "value thisset: Python\n"
     ]
    }
   ],
   "source": [
    "# (9) Write a python program to loop through the set and print values.\n",
    "\n",
    "thisset = {\"Python\",\"Django\",\"Jvascript\",\"SQL\"}\n",
    "\n",
    "for value in thisset:\n",
    "    print(\"value thisset:\",value)"
   ]
  },
  {
   "cell_type": "code",
   "execution_count": 3,
   "id": "89479fee",
   "metadata": {},
   "outputs": [
    {
     "name": "stdout",
     "output_type": "stream",
     "text": [
      "The maximum value of set is 9\n",
      "The minimum value of set is 1\n"
     ]
    }
   ],
   "source": [
    "# (10) Write a python program to find the maximmum and minimum value in a set.\n",
    "\n",
    "num_set = {1,2,3,4,5,6,7,8,9}\n",
    "print(\"The maximum value of set is\",max(num_set))\n",
    "print(\"The minimum value of set is\",min(num_set))"
   ]
  },
  {
   "cell_type": "code",
   "execution_count": null,
   "id": "a8a0d862",
   "metadata": {},
   "outputs": [],
   "source": []
  }
 ],
 "metadata": {
  "kernelspec": {
   "display_name": "Python 3 (ipykernel)",
   "language": "python",
   "name": "python3"
  },
  "language_info": {
   "codemirror_mode": {
    "name": "ipython",
    "version": 3
   },
   "file_extension": ".py",
   "mimetype": "text/x-python",
   "name": "python",
   "nbconvert_exporter": "python",
   "pygments_lexer": "ipython3",
   "version": "3.9.7"
  }
 },
 "nbformat": 4,
 "nbformat_minor": 5
}
