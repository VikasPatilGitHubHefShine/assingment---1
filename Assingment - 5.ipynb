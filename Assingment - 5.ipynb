{
 "cells": [
  {
   "cell_type": "code",
   "execution_count": 23,
   "id": "22f0227e",
   "metadata": {},
   "outputs": [
    {
     "name": "stdout",
     "output_type": "stream",
     "text": [
      "Enter any above five digit number:- 123456\n",
      "12345\n"
     ]
    }
   ],
   "source": [
    "# (1) Write a python script to remove the last digit from a given number.\n",
    "# (for example, if user enters 2534 then tour output should be 253)\n",
    "\n",
    "a = input(\"Enter any above five digit number:- \")\n",
    "print(eval(a[:-1]))"
   ]
  },
  {
   "cell_type": "code",
   "execution_count": 1,
   "id": "0fc0a23e",
   "metadata": {},
   "outputs": [
    {
     "name": "stdout",
     "output_type": "stream",
     "text": [
      "Enter any four digit number:- 1234\n",
      "4\n"
     ]
    }
   ],
   "source": [
    "# (2) Write a python script toget the last digit from a given number.\n",
    "# (for example, if user enters 2089 then your output should be 9)\n",
    "\n",
    "A = input(\"Enter any four digit number:- \")\n",
    "print(eval(A[-1:]))"
   ]
  },
  {
   "cell_type": "code",
   "execution_count": 12,
   "id": "201a7111",
   "metadata": {},
   "outputs": [
    {
     "name": "stdout",
     "output_type": "stream",
     "text": [
      "A = 20\n",
      "B = 15\n"
     ]
    }
   ],
   "source": [
    "# (3) Write a python script swap data of the two numbers.\n",
    "\n",
    "A = 15\n",
    "B = 20\n",
    "A,B=B,A\n",
    "print(\"A =\",A)\n",
    "print(\"B =\",B)"
   ]
  },
  {
   "cell_type": "code",
   "execution_count": 15,
   "id": "41e408e7",
   "metadata": {},
   "outputs": [
    {
     "name": "stdout",
     "output_type": "stream",
     "text": [
      "Power calculatore\n",
      "Enter the number:- 4\n",
      "Enter the power of a number:- 2\n",
      "The answer is 16\n"
     ]
    }
   ],
   "source": [
    "# (4) Write a python script find x power y, where value of x and y are given by user\n",
    "\n",
    "print(\"Power calculatore\")\n",
    "\n",
    "x = int(input(\"Enter the number:- \"))\n",
    "y = int(input(\"Enter the power of a number:- \"))\n",
    "a = x**y\n",
    "print(\"The answer is\",a)"
   ]
  },
  {
   "cell_type": "code",
   "execution_count": 31,
   "id": "5f5dc5ec",
   "metadata": {},
   "outputs": [
    {
     "name": "stdout",
     "output_type": "stream",
     "text": [
      "Enter three digit number:- 123\n",
      "1\n"
     ]
    }
   ],
   "source": [
    "# (5) Write a python script which takes the three digit number from the users and display only the first digit.\n",
    "\n",
    "A = (input(\"Enter three digit number:- \"))\n",
    "print(A[:1])\n"
   ]
  },
  {
   "cell_type": "code",
   "execution_count": 7,
   "id": "a8a9500c",
   "metadata": {},
   "outputs": [
    {
     "name": "stdout",
     "output_type": "stream",
     "text": [
      "Enter three digit number:- 152\n",
      "5\n"
     ]
    }
   ],
   "source": [
    "# (6) write a python script which takes a three digit numbers from the use and display only its middel digit.\n",
    "# Display only last digit number.\n",
    "\n",
    "A = input(\"Enter three digit number:- \")\n",
    "B = len(A)\n",
    "\n",
    "if B > 3:\n",
    "    print(\"Enter the lower digit number\")\n",
    "elif B < 3:\n",
    "        print(\"Enter the higher digit number\")\n",
    "else:\n",
    "    print(A[1])"
   ]
  },
  {
   "cell_type": "code",
   "execution_count": 2,
   "id": "06d7279f",
   "metadata": {},
   "outputs": [
    {
     "name": "stdout",
     "output_type": "stream",
     "text": [
      "Enter any three digit number:-123\n",
      "3\n"
     ]
    }
   ],
   "source": [
    "# (7) Write a python script which takes a three digit number from the user and display only its last digit.\n",
    "# Display only last digit number.\n",
    "\n",
    "A = input(\"Enter any three digit number:-\")\n",
    "B = len(A)\n",
    "\n",
    "if B > 3:\n",
    "    print(\"Enter the lower digit number...\")\n",
    "elif B < 3:\n",
    "    print(\"Enter the higher digit number...\")\n",
    "else:\n",
    "    print(A[-1])"
   ]
  },
  {
   "cell_type": "code",
   "execution_count": 11,
   "id": "53cc2bc3",
   "metadata": {},
   "outputs": [
    {
     "name": "stdout",
     "output_type": "stream",
     "text": [
      "Enter your number:10\n",
      "YOU ARE PRESENT\n"
     ]
    }
   ],
   "source": [
    "# (8) Write a python script to use IN operater to  display the data present in the list.\n",
    "\n",
    "B = int(input(\"Enter your number:\"))\n",
    "\n",
    "A = [1,2,3,4,5,6,7,8,9,10,11,12,13,14,15,16,17,18,19,20]\n",
    "\n",
    "if B in A:\n",
    "    print(\"YOU ARE PRESENT\")\n",
    "else:\n",
    "    print(\"YOU ARE APSENT\")"
   ]
  },
  {
   "cell_type": "code",
   "execution_count": 13,
   "id": "1e74f997",
   "metadata": {},
   "outputs": [
    {
     "data": {
      "text/plain": [
       "False"
      ]
     },
     "execution_count": 13,
     "metadata": {},
     "output_type": "execute_result"
    }
   ],
   "source": [
    "# (9) write a python script to use NOT IN operator to display the data not present in list.\n",
    "\n",
    "A = [1,2,3,4,5,6,7,8,9,10,11,12,13,14,15,16,17,18,19,20]\n",
    "\n",
    "20 not in A"
   ]
  },
  {
   "cell_type": "code",
   "execution_count": 15,
   "id": "8b355191",
   "metadata": {},
   "outputs": [
    {
     "data": {
      "text/plain": [
       "True"
      ]
     },
     "execution_count": 15,
     "metadata": {},
     "output_type": "execute_result"
    }
   ],
   "source": [
    "# (10)Write a python script to use IS operator display if both variables are the same object or not?\n",
    "\n",
    "A = \"VIKAS\"\n",
    "B = \"AMOL\"\n",
    "\n",
    "A is not B"
   ]
  },
  {
   "cell_type": "code",
   "execution_count": null,
   "id": "2b9812ea",
   "metadata": {},
   "outputs": [],
   "source": []
  }
 ],
 "metadata": {
  "kernelspec": {
   "display_name": "Python 3 (ipykernel)",
   "language": "python",
   "name": "python3"
  },
  "language_info": {
   "codemirror_mode": {
    "name": "ipython",
    "version": 3
   },
   "file_extension": ".py",
   "mimetype": "text/x-python",
   "name": "python",
   "nbconvert_exporter": "python",
   "pygments_lexer": "ipython3",
   "version": "3.9.7"
  }
 },
 "nbformat": 4,
 "nbformat_minor": 5
}
