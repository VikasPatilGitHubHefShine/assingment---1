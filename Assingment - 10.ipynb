{
 "cells": [
  {
   "cell_type": "code",
   "execution_count": 9,
   "id": "69361426",
   "metadata": {},
   "outputs": [
    {
     "name": "stdout",
     "output_type": "stream",
     "text": [
      "Enter a Number:5\n",
      "VIKAS, VIKAS, VIKAS, VIKAS, VIKAS, "
     ]
    }
   ],
   "source": [
    "# (1) Write a python script to print VIKAS N times on the screen.\n",
    "\n",
    "A = int(input(\"Enter a Number:\"))\n",
    "B = \"VIKAS\"\n",
    "\n",
    "for i in range(A):\n",
    "    print(B,end=\", \")"
   ]
  },
  {
   "cell_type": "code",
   "execution_count": 16,
   "id": "8f357580",
   "metadata": {},
   "outputs": [
    {
     "name": "stdout",
     "output_type": "stream",
     "text": [
      "Enter a number:11\n",
      "1, 2, 3, 4, 5, 6, 7, 8, 9, 10, "
     ]
    }
   ],
   "source": [
    "# (2) Write a python script to print first N natural numbers.\n",
    "\n",
    "A = int(input(\"Enter a number:\"))\n",
    "\n",
    "for i in range (1,A):\n",
    "    print(i,end=\", \")"
   ]
  },
  {
   "cell_type": "code",
   "execution_count": 12,
   "id": "c80fd61c",
   "metadata": {},
   "outputs": [
    {
     "name": "stdout",
     "output_type": "stream",
     "text": [
      "Enter a number:5\n",
      "5, 4, 3, 2, 1, "
     ]
    }
   ],
   "source": [
    "# (3) Write a python script to print first N natural numbers in revers order.\n",
    "\n",
    "A = int(input(\"Enter a number:\"))\n",
    "i = 0\n",
    "\n",
    "for i in range (i,A):\n",
    "    print(A-i,end=\", \")"
   ]
  },
  {
   "cell_type": "code",
   "execution_count": 63,
   "id": "9bb9f803",
   "metadata": {},
   "outputs": [
    {
     "name": "stdout",
     "output_type": "stream",
     "text": [
      " Please Enter any Maximum Value : 16\n",
      "1 3 5 7 9 11 13 15 "
     ]
    }
   ],
   "source": [
    "# (4) Write a python script to print first N odd numbers.\n",
    "\n",
    "maximum = int(input(\" Please Enter any Maximum Value : \"))\n",
    "\n",
    "for maximum in range(1, maximum+1,2):\n",
    "        print(maximum,end=\" \")"
   ]
  },
  {
   "cell_type": "code",
   "execution_count": 64,
   "id": "4e787c99",
   "metadata": {},
   "outputs": [
    {
     "name": "stdout",
     "output_type": "stream",
     "text": [
      "Please enter a number: 13\n",
      "25 23 21 19 17 15 13 11 9 7 5 3 1 "
     ]
    }
   ],
   "source": [
    "# (5) Write a python script to print first N odd numbers in revers order.\n",
    "\n",
    "A = int(input(\"Please enter a number: \"))\n",
    "i = 1\n",
    "B = A*2\n",
    "\n",
    "for i in range(1,B,2):\n",
    "    print(B-i,end=\" \")"
   ]
  },
  {
   "cell_type": "code",
   "execution_count": 58,
   "id": "5e808af7",
   "metadata": {},
   "outputs": [
    {
     "name": "stdout",
     "output_type": "stream",
     "text": [
      "Enter a number: 16\n",
      "0 2 4 6 8 10 12 14 16 18 20 22 24 26 28 30 32 "
     ]
    }
   ],
   "source": [
    "# (6) Write a python script to print first N even natural numbers.\n",
    "\n",
    "num = int(input(\"Enter a number: \"))\n",
    "B = num*2\n",
    "i=1\n",
    "\n",
    "for B in range(0,B+1,2):\n",
    "        print(B,end=\" \")"
   ]
  },
  {
   "cell_type": "code",
   "execution_count": 69,
   "id": "58be1abe",
   "metadata": {},
   "outputs": [
    {
     "name": "stdout",
     "output_type": "stream",
     "text": [
      "Enter a number: 5\n",
      "10 8 6 4 2 0 "
     ]
    }
   ],
   "source": [
    "# (7) Write a python script to print first N even number in revers order.\n",
    "\n",
    "num = int(input(\"Enter a number: \"))\n",
    "i = 0\n",
    "A = num*2\n",
    "\n",
    "for i in range(0,A+1,2):\n",
    "    print(A-i,end=\" \")"
   ]
  },
  {
   "cell_type": "code",
   "execution_count": 74,
   "id": "02fc520a",
   "metadata": {},
   "outputs": [
    {
     "name": "stdout",
     "output_type": "stream",
     "text": [
      "Enter a number: 5\n",
      "1\n",
      "4\n",
      "9\n",
      "16\n",
      "25\n"
     ]
    }
   ],
   "source": [
    "# (8) Write a python script to print square of first N natural number.\n",
    "\n",
    "num = int(input(\"Enter a number: \"))\n",
    "i = 1\n",
    "\n",
    "for i in range(1,num+1):\n",
    "    print(i**2)"
   ]
  },
  {
   "cell_type": "code",
   "execution_count": 76,
   "id": "24da36bb",
   "metadata": {},
   "outputs": [
    {
     "name": "stdout",
     "output_type": "stream",
     "text": [
      "Enter a number: 5\n",
      "1\n",
      "8\n",
      "27\n",
      "64\n",
      "125\n"
     ]
    }
   ],
   "source": [
    "# (9) Write a python script to print cubes of first N natural numbers.\n",
    "\n",
    "num = int(input(\"Enter a number: \"))\n",
    "i = 1\n",
    "\n",
    "for i in range(1,num+1):\n",
    "    print(i**3)"
   ]
  },
  {
   "cell_type": "code",
   "execution_count": 77,
   "id": "5a8df273",
   "metadata": {},
   "outputs": [
    {
     "name": "stdout",
     "output_type": "stream",
     "text": [
      "Enter a number: 5\n",
      "5\n",
      "10\n",
      "15\n",
      "20\n",
      "25\n"
     ]
    }
   ],
   "source": [
    "# (10) Write a python script to print first Ten multiple of Nq\n",
    "\n",
    "num = int(input(\"Enter a number: \"))\n",
    "i = 1\n",
    "\n",
    "for i in range(1,num+1):\n",
    "    print(i*num)"
   ]
  }
 ],
 "metadata": {
  "kernelspec": {
   "display_name": "Python 3 (ipykernel)",
   "language": "python",
   "name": "python3"
  },
  "language_info": {
   "codemirror_mode": {
    "name": "ipython",
    "version": 3
   },
   "file_extension": ".py",
   "mimetype": "text/x-python",
   "name": "python",
   "nbconvert_exporter": "python",
   "pygments_lexer": "ipython3",
   "version": "3.9.7"
  }
 },
 "nbformat": 4,
 "nbformat_minor": 5
}
