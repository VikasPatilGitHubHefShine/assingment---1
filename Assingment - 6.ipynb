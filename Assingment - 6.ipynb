{
 "cells": [
  {
   "cell_type": "code",
   "execution_count": 4,
   "id": "88ac0f05",
   "metadata": {},
   "outputs": [
    {
     "name": "stdout",
     "output_type": "stream",
     "text": [
      "Enter a number: -52\n",
      "The number is non-positive\n"
     ]
    }
   ],
   "source": [
    "# (1) Write a python script to check whether a given number is positive or non positive.\n",
    "\n",
    "A = int(input(\"Enter a number: \"))\n",
    "\n",
    "if A > 0:\n",
    "    print(\"The number is positive\")\n",
    "else:\n",
    "    print(\"The number is non-positive\")"
   ]
  },
  {
   "cell_type": "code",
   "execution_count": 30,
   "id": "dadc63e1",
   "metadata": {},
   "outputs": [
    {
     "name": "stdout",
     "output_type": "stream",
     "text": [
      "Check the given number is divisible by five or not: 5\n",
      "The number is divisible by 5\n"
     ]
    }
   ],
   "source": [
    "# (2) Write a python script to check whether a given number is divisible by 5 or not.\n",
    "\n",
    "A = int(input(\"Check the given number is divisible by five or not: \"))\n",
    "\n",
    "if A % 5 == 0:\n",
    "     print(\"Yes it is divisible by five\")\n",
    "else:\n",
    "    print(\"The given number is not divisible by five\")"
   ]
  },
  {
   "cell_type": "code",
   "execution_count": 32,
   "id": "2c26ef09",
   "metadata": {},
   "outputs": [
    {
     "name": "stdout",
     "output_type": "stream",
     "text": [
      "Enter the number: 5\n",
      "The given number is odd\n"
     ]
    }
   ],
   "source": [
    "# (3) Write a python script to check whether a given number is even or odd.\n",
    "\n",
    "A = int(input(\"Enter the number: \"))\n",
    "\n",
    "if A % 2 == 0:\n",
    "    print(\"The given number is even\")\n",
    "else:\n",
    "    print(\"The given number is odd\")"
   ]
  },
  {
   "cell_type": "code",
   "execution_count": 47,
   "id": "d854a5bc",
   "metadata": {},
   "outputs": [
    {
     "name": "stdout",
     "output_type": "stream",
     "text": [
      "Enetr first number: 55\n",
      "Enter second number: 16\n",
      "55\n"
     ]
    }
   ],
   "source": [
    "# (4) Write a python script to print greater between two numbers. print number only once even if the number are the same.\n",
    "\n",
    "A = int(input(\"Enetr first number: \"))\n",
    "\n",
    "B = int(input(\"Enter second number: \"))\n",
    "\n",
    "if A > B :\n",
    "    print(A)\n",
    "else:\n",
    "    print(B)"
   ]
  },
  {
   "cell_type": "code",
   "execution_count": 1,
   "id": "8685ed58",
   "metadata": {},
   "outputs": [
    {
     "name": "stdout",
     "output_type": "stream",
     "text": [
      "Enter the word: vikas\n",
      "Enter the word: rahul\n",
      "['rahul', 'vikas']\n"
     ]
    }
   ],
   "source": [
    "# (5) Write a python script to print two given words in distionary order.\n",
    "\n",
    "A = input(\"Enter the word: \")\n",
    "\n",
    "B = input(\"Enter the word: \")\n",
    "\n",
    "X = A,B\n",
    "print(sorted(X))"
   ]
  },
  {
   "cell_type": "code",
   "execution_count": 8,
   "id": "c5016592",
   "metadata": {},
   "outputs": [
    {
     "name": "stdout",
     "output_type": "stream",
     "text": [
      "rahul\n",
      "vikas\n",
      "pramod\n",
      "amol\n",
      "['amol', 'pramod', 'rahul', 'vikas']\n"
     ]
    }
   ],
   "source": [
    "A,B,C,D = input(),input(),input(),input(),\n",
    "\n",
    "X=A,B,C,D\n",
    "\n",
    "print(sorted(X))"
   ]
  },
  {
   "cell_type": "code",
   "execution_count": 17,
   "id": "c954e48e",
   "metadata": {},
   "outputs": [
    {
     "name": "stdout",
     "output_type": "stream",
     "text": [
      "Enter a number:1234\n",
      "WRONG\n"
     ]
    }
   ],
   "source": [
    "# (6) Write a python script to check whether a given number is a three digit number or not\n",
    "\n",
    "A = str(input(\"Enter a number:\"))\n",
    "\n",
    "X =len(A)\n",
    "\n",
    "if X==3:\n",
    "    print(\"OK\")\n",
    "else:\n",
    "    print(\"WRONG\")"
   ]
  },
  {
   "cell_type": "code",
   "execution_count": 22,
   "id": "68c69229",
   "metadata": {},
   "outputs": [
    {
     "name": "stdout",
     "output_type": "stream",
     "text": [
      "Enter a number:-45\n",
      "The entered number is negative\n"
     ]
    }
   ],
   "source": [
    "# (7) Write a python script to check whether a given number is positive, negative or zero.\n",
    "\n",
    "A = int(input(\"Enter a number:\"))\n",
    "\n",
    "if A==0:\n",
    "    print(\"The entered number is zero\")\n",
    "elif A>0:\n",
    "    print(\"The entered number is positive\")\n",
    "else:\n",
    "    print(\"The entered number is negative\")"
   ]
  },
  {
   "cell_type": "code",
   "execution_count": 1,
   "id": "21a85c40",
   "metadata": {},
   "outputs": [],
   "source": [
    "# (8) Write a python script to check whether a given quadratic equation has two real and distinct root, real and equal root or imaginary roots.\n"
   ]
  },
  {
   "cell_type": "code",
   "execution_count": 3,
   "id": "e520985f",
   "metadata": {},
   "outputs": [
    {
     "name": "stdout",
     "output_type": "stream",
     "text": [
      "Enter the year:2013\n",
      "The given year is not leap year\n"
     ]
    }
   ],
   "source": [
    "# (9) Write a python script to check whether a given is a leap year or not.\n",
    "\n",
    "A = int(input(\"Enter the year:\"))\n",
    "\n",
    "if A%400==0:\n",
    "    print(\"The given year is leap year\")\n",
    "elif A%100==0:\n",
    "    print(\"The given year is leap year\")\n",
    "elif A%4==0:\n",
    "    print(\"The given year is leap year\")\n",
    "else:\n",
    "    print(\"The given year is not leap year\")"
   ]
  },
  {
   "cell_type": "code",
   "execution_count": 5,
   "id": "a18efa0e",
   "metadata": {},
   "outputs": [
    {
     "name": "stdout",
     "output_type": "stream",
     "text": [
      "Enter any three numbers.\n",
      "13\n",
      "12\n",
      "13\n",
      "['12', '13', '13']\n"
     ]
    }
   ],
   "source": [
    "# (10) Write a python script to print greater among three numbers. print number only once even if the numbers are the same\n",
    "print(\"Enter any three numbers.\")\n",
    "\n",
    "A,B,C = input(),input(),input(),\n",
    "\n",
    "X = A,B,C\n",
    "\n",
    "print(sorted(X))"
   ]
  },
  {
   "cell_type": "code",
   "execution_count": 2,
   "id": "e1ab7b9f",
   "metadata": {},
   "outputs": [
    {
     "name": "stdout",
     "output_type": "stream",
     "text": [
      "List of months: January, February, March, April, May, June, July, August, September, October, November, December\n",
      "Input the name of Month: March.\n",
      "Wrong month name\n"
     ]
    }
   ],
   "source": [
    "#(11) Write a python script to take the month value in numeric format and display the number of days in it.\n",
    "\n",
    "print(\"List of months: January, February, March, April, May, June, July, August, September, October, November, December\")\n",
    "month_name = input(\"Input the name of Month: \")\n",
    "\n",
    "if month_name == \"February\":\n",
    "    print(\"No. of days: 28/29 days\")\n",
    "elif month_name in (\"April\", \"June\", \"September\", \"November\"):\n",
    "    print(\"No. of days: 30 days\")\n",
    "elif month_name in (\"January\", \"March\", \"May\", \"July\", \"August\", \"October\", \"December\"):\n",
    "    print(\"No. of days: 31 day\")\n",
    "else:\n",
    "    print(\"Wrong month name\")"
   ]
  },
  {
   "cell_type": "code",
   "execution_count": null,
   "id": "dace5bdc",
   "metadata": {},
   "outputs": [],
   "source": [
    "#(12) Write a python script to accept one complex number from the user and display the greater number between real part and imaginary part.\n"
   ]
  }
 ],
 "metadata": {
  "kernelspec": {
   "display_name": "Python 3 (ipykernel)",
   "language": "python",
   "name": "python3"
  },
  "language_info": {
   "codemirror_mode": {
    "name": "ipython",
    "version": 3
   },
   "file_extension": ".py",
   "mimetype": "text/x-python",
   "name": "python",
   "nbconvert_exporter": "python",
   "pygments_lexer": "ipython3",
   "version": "3.9.7"
  }
 },
 "nbformat": 4,
 "nbformat_minor": 5
}
