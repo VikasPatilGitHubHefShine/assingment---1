{
 "cells": [
  {
   "cell_type": "code",
   "execution_count": 1,
   "id": "a8a93c19",
   "metadata": {},
   "outputs": [
    {
     "name": "stdout",
     "output_type": "stream",
     "text": [
      "What is your name? VIKAS\n",
      "VIKAS\n"
     ]
    }
   ],
   "source": [
    "# (1) Write a python script to take your name as input from the user and then print it.\n",
    "\n",
    "a = input(\"What is your name? \")\n",
    "print(a)"
   ]
  },
  {
   "cell_type": "code",
   "execution_count": 2,
   "id": "6290534c",
   "metadata": {},
   "outputs": [
    {
     "name": "stdout",
     "output_type": "stream",
     "text": [
      "Enter a number: 23\n",
      "23\n"
     ]
    }
   ],
   "source": [
    "# (2) Write a python script to take input from the user. input must be a number.\n",
    "\n",
    "a = input(\"Enter a number: \")\n",
    "print(a)"
   ]
  },
  {
   "cell_type": "code",
   "execution_count": 1,
   "id": "9f732ccb",
   "metadata": {},
   "outputs": [
    {
     "name": "stdout",
     "output_type": "stream",
     "text": [
      "Enter the first number: 5\n",
      "Enter the second number: 4\n",
      "9\n"
     ]
    }
   ],
   "source": [
    "# (3) Write a python script which takes two numbers from the users then calcute their sum and display the result.\n",
    "\n",
    "a = int(input(\"Enter the first number: \"))\n",
    "b = int(input(\"Enter the second number: \"))\n",
    "x = a + b\n",
    "print(x)"
   ]
  },
  {
   "cell_type": "code",
   "execution_count": 5,
   "id": "1963c4b1",
   "metadata": {},
   "outputs": [
    {
     "name": "stdout",
     "output_type": "stream",
     "text": [
      "Eenter r: 5\n",
      "78.53981633974483\n"
     ]
    }
   ],
   "source": [
    "# (4) write a python script which takes the radius from the user and display area of a circle.\n",
    "\n",
    "import math\n",
    "r = int(input(\"Eenter r: \"))\n",
    "area = math.pi*r**2\n",
    "print(area)"
   ]
  },
  {
   "cell_type": "code",
   "execution_count": 5,
   "id": "b9f8061f",
   "metadata": {},
   "outputs": [
    {
     "name": "stdout",
     "output_type": "stream",
     "text": [
      "Enter a number: 5\n",
      "25\n"
     ]
    }
   ],
   "source": [
    "# (5) Write a python script to calculate a suare of a number. Number is enterd by the user.\n",
    "\n",
    "a = int(input(\"Enter a number: \"))\n",
    "square = a**2\n",
    "print(square)"
   ]
  },
  {
   "cell_type": "code",
   "execution_count": 12,
   "id": "c71e5796",
   "metadata": {},
   "outputs": [
    {
     "name": "stdout",
     "output_type": "stream",
     "text": [
      "Enter the first number:- 86\n",
      "Enter the second number:- 85\n",
      "Enter the third number:- 89\n",
      "the area of triangle is:-  3248.599698331575\n"
     ]
    }
   ],
   "source": [
    "# (6) Write a python script to calculate the area of the triangle. Number is entered by the user.\n",
    "\n",
    "a = float(input(\"Enter the first number:- \"))\n",
    "b = float(input(\"Enter the second number:- \"))\n",
    "c = float(input(\"Enter the third number:- \"))\n",
    "\n",
    "# calculate the semi parimiters\n",
    "s = (a+b+c)/2\n",
    "\n",
    "# Calculate the area\n",
    "area = (s*(s-a)*(s-b)*(s-c))**0.5\n",
    "\n",
    "print(\"the area of triangle is:- \",area)"
   ]
  },
  {
   "cell_type": "code",
   "execution_count": 13,
   "id": "94e093fd",
   "metadata": {},
   "outputs": [
    {
     "name": "stdout",
     "output_type": "stream",
     "text": [
      "Enter the first number:- 4\n",
      "Enter the second number:- 5\n",
      "Enter the third number:-4\n",
      "Average of the number is:-  4.333333333333333\n"
     ]
    }
   ],
   "source": [
    "# (7) Write a python script to calculate average of three numbers is enterd by the user.\n",
    "\n",
    "a = int(input(\"Enter the first number:- \"))\n",
    "b = int(input(\"Enter the second number:- \"))\n",
    "c = int(input(\"Enter the third number:-\"))\n",
    "\n",
    "average = (a+b+c)/3\n",
    "\n",
    "print(\"Average of the number is:- \",average)"
   ]
  },
  {
   "cell_type": "code",
   "execution_count": 18,
   "id": "8df9270e",
   "metadata": {},
   "outputs": [
    {
     "name": "stdout",
     "output_type": "stream",
     "text": [
      "Enter principal amount: 10000\n",
      "Enter time period in month: 4\n",
      "Enter rate of interest: 2\n",
      "Interest:  800.0\n",
      "Total amount:  10800.0\n"
     ]
    }
   ],
   "source": [
    "# (8) Write a python script to calculate simple interest.\n",
    "\n",
    "p = int(input(\"Enter principal amount: \"))\n",
    "t = eval(input(\"Enter time period in month: \"))\n",
    "r = int(input(\"Enter rate of interest: \"))\n",
    "\n",
    "amount = (p*t*r)/100\n",
    "total_amount = amount + p\n",
    "\n",
    "print(\"Interest: \",amount)\n",
    "print(\"Total amount: \",total_amount)"
   ]
  },
  {
   "cell_type": "code",
   "execution_count": 20,
   "id": "fbdccbc3",
   "metadata": {},
   "outputs": [
    {
     "name": "stdout",
     "output_type": "stream",
     "text": [
      "5\n",
      "5\n",
      "5\n",
      "volume of cuboid:  125\n"
     ]
    }
   ],
   "source": [
    "# (9) Write a python script to calculate the volume of a cuboid.\n",
    "\n",
    "L,B,H = int(input()),int(input()),int(input())\n",
    "\n",
    "print(\"volume of cuboid: \",L*B*H)"
   ]
  },
  {
   "cell_type": "code",
   "execution_count": 23,
   "id": "9a3812c9",
   "metadata": {},
   "outputs": [
    {
     "name": "stdout",
     "output_type": "stream",
     "text": [
      "Enter base higth: 5\n",
      "Enter base: 5\n",
      "Area of triangle is:  12.5\n"
     ]
    }
   ],
   "source": [
    "# (10) Write a python script to calculate area of rectangle.\n",
    "\n",
    "Hh,B = int(input(\"Enter base higth: \")),int(input(\"Enter base: \"))\n",
    "\n",
    "area = (Hh*B)/2\n",
    "print(\"Area of triangle is: \",area)"
   ]
  }
 ],
 "metadata": {
  "kernelspec": {
   "display_name": "Python 3 (ipykernel)",
   "language": "python",
   "name": "python3"
  },
  "language_info": {
   "codemirror_mode": {
    "name": "ipython",
    "version": 3
   },
   "file_extension": ".py",
   "mimetype": "text/x-python",
   "name": "python",
   "nbconvert_exporter": "python",
   "pygments_lexer": "ipython3",
   "version": "3.9.7"
  }
 },
 "nbformat": 4,
 "nbformat_minor": 5
}
