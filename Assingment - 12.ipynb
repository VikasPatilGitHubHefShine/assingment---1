{
 "cells": [
  {
   "cell_type": "code",
   "execution_count": 1,
   "id": "aa77667b",
   "metadata": {},
   "outputs": [],
   "source": [
    "# MORE ON LOOPS"
   ]
  },
  {
   "cell_type": "code",
   "execution_count": 10,
   "id": "f07fedfe",
   "metadata": {},
   "outputs": [
    {
     "name": "stdout",
     "output_type": "stream",
     "text": [
      "Enter a number: 123\n",
      "321\n"
     ]
    }
   ],
   "source": [
    "# (1) Write a python script to revers a number.\n",
    "\n",
    "num = int(input(\"Enter a number: \"))\n",
    "i = 0\n",
    "revers = 0\n",
    "\n",
    "while num > 0:\n",
    "    reminder = num %10\n",
    "    revers = (revers * 10) + reminder\n",
    "    num = num // 10\n",
    "print (revers)"
   ]
  },
  {
   "cell_type": "code",
   "execution_count": 4,
   "id": "64a3f2df",
   "metadata": {},
   "outputs": [
    {
     "name": "stdout",
     "output_type": "stream",
     "text": [
      "Enter a number: 55\n",
      "55 is not a prime number\n"
     ]
    }
   ],
   "source": [
    "# (2) Write a python script to check whether a given number is prime or not.\n",
    "\n",
    "num = int(input(\"Enter a number: \"))\n",
    "\n",
    "if num > 1:\n",
    "    for i in range (2,int(num/2)+1):\n",
    "        if num % i == 0:\n",
    "            print(num,\"is not a prime number\")\n",
    "            break\n",
    "    else:\n",
    "        print(num,\"num is a prime number\")\n",
    "else:\n",
    "    print(num,\"is not a prime number\")"
   ]
  },
  {
   "cell_type": "code",
   "execution_count": 19,
   "id": "d1d20f8f",
   "metadata": {},
   "outputs": [
    {
     "name": "stdout",
     "output_type": "stream",
     "text": [
      "2 3 5 7 11 13 17 19 23 29 31 37 41 43 47 53 59 61 67 71 73 79 83 89 97 "
     ]
    }
   ],
   "source": [
    "# (3) Write a python script to print all prime numbers under 100.\n",
    "\n",
    "for i in range(1,100):\n",
    "    if i > 1:\n",
    "        for j in range (2,i):\n",
    "            if i%j == 0:\n",
    "                break\n",
    "        else:\n",
    "            print(i,end=\" \")"
   ]
  },
  {
   "cell_type": "code",
   "execution_count": 20,
   "id": "aff28a38",
   "metadata": {},
   "outputs": [
    {
     "name": "stdout",
     "output_type": "stream",
     "text": [
      "Enter the first number: 1\n",
      "Enter the second number: 100\n",
      "1 2 3 5 7 11 13 17 19 23 29 31 37 41 43 47 53 59 61 67 71 73 79 83 89 97 "
     ]
    }
   ],
   "source": [
    "# (4) Write a python script to print all primre numbers between two given numbers(both values inclusive)\n",
    "\n",
    "first_num = int(input(\"Enter the first number: \"))\n",
    "second_num = int(input(\"Enter the second number: \"))\n",
    "\n",
    "for i in range (first_num,second_num+1):\n",
    "    if i > 0:\n",
    "        for j in range(2,i):\n",
    "            if i%j == 0:\n",
    "                break\n",
    "        else:\n",
    "            print(i,end=\" \")"
   ]
  },
  {
   "cell_type": "code",
   "execution_count": 35,
   "id": "cf386860",
   "metadata": {},
   "outputs": [
    {
     "name": "stdout",
     "output_type": "stream",
     "text": [
      "Enter the number: 41\n",
      "13 "
     ]
    }
   ],
   "source": [
    "# (5) Write a python script to find next prime number of a given number.\n",
    "\n",
    "# from sympy import*\n",
    "# nextprime(11)\n",
    "\n",
    "\n",
    "\n",
    "num = int(input(\"Enter the number: \"))\n",
    "p == num+1\n",
    "for i in range(2,p):\n",
    "        if(p%i==0):\n",
    "            p=p+1\n",
    "else:\n",
    "        print(p,end=\" \")\n",
    "\n"
   ]
  },
  {
   "cell_type": "code",
   "execution_count": 42,
   "id": "cf1abb5f",
   "metadata": {},
   "outputs": [
    {
     "name": "stdout",
     "output_type": "stream",
     "text": [
      "Enter the number: 11\n",
      "2,3,5,7,11,"
     ]
    }
   ],
   "source": [
    "# (6) Write a python script to print first N prime numbers.\n",
    "\n",
    "num = int(input(\"Enter the number: \"))\n",
    "\n",
    "for i in  range (1,num+1):\n",
    "    if i > 1:\n",
    "        for j in range(2,i):\n",
    "            if i%j == 0:\n",
    "                break\n",
    "        else:\n",
    "            print(i,end=\",\")"
   ]
  },
  {
   "cell_type": "code",
   "execution_count": 44,
   "id": "91bad90a",
   "metadata": {},
   "outputs": [
    {
     "name": "stdout",
     "output_type": "stream",
     "text": [
      "Enter the number:10\n",
      "0\n",
      "1\n",
      "1\n",
      "2\n",
      "3\n",
      "5\n",
      "8\n",
      "13\n",
      "21\n",
      "34\n"
     ]
    }
   ],
   "source": [
    "# (7) Write a python script to check whether a given pair of numbers are co-prime numbers or not.\n",
    "\n"
   ]
  },
  {
   "cell_type": "code",
   "execution_count": 46,
   "id": "06504a63",
   "metadata": {},
   "outputs": [
    {
     "name": "stdout",
     "output_type": "stream",
     "text": [
      "Enter the number: 10\n",
      "0,1,1,2,3,5,8,13,21,34,"
     ]
    }
   ],
   "source": [
    "# (8) Write a python script to print first N terms of a fibonacci series.\n",
    "\n",
    "num = int(input(\"Enter the number: \"))\n",
    "first = 0\n",
    "second = 1\n",
    "\n",
    "for i in range(1,num+1):\n",
    "    print(first,end=\",\")\n",
    "    third = first + second\n",
    "    first = second\n",
    "    second = third"
   ]
  },
  {
   "cell_type": "code",
   "execution_count": 13,
   "id": "06143ff3",
   "metadata": {},
   "outputs": [
    {
     "name": "stdout",
     "output_type": "stream",
     "text": [
      "Enter the value of A:6\n",
      "Enter the value of B:15\n",
      "The LCM of 6 and 15 is 30\n"
     ]
    }
   ],
   "source": [
    "# (9) Write a python script to calculate LCM of two numbers.\n",
    "\n",
    "num_1 = int(input(\"Enter the value of A:\"))\n",
    "num_2 = int(input(\"Enter the value of B:\"))\n",
    "\n",
    "if num_1 > num_2:\n",
    "    max = num_1\n",
    "else:\n",
    "    max = num_2\n",
    "\n",
    "while(True):\n",
    "    if max%num_1 == 0 and max%num_2 == 0:\n",
    "        print(\"The LCM of\",num_1,\"and\",num_2,\"is\", max)\n",
    "        break;\n",
    "    max = max + 1"
   ]
  },
  {
   "cell_type": "code",
   "execution_count": 14,
   "id": "afdc9613",
   "metadata": {},
   "outputs": [
    {
     "name": "stdout",
     "output_type": "stream",
     "text": [
      "Enter the value of A:36\n",
      "Enter the value of B:60\n",
      "Hcf of 36 and 60 is 12\n"
     ]
    }
   ],
   "source": [
    "# (10) Write a python script to calculate HCF of two numbers.\n",
    "\n",
    "num1 = int(input(\"Enter the value of A:\"))\n",
    "num2 = int(input(\"Enter the value of B:\"))\n",
    "a = num1\n",
    "b = num2\n",
    "\n",
    "while num1 != num2:\n",
    "    if num1 > num2:\n",
    "        num1 -= num2\n",
    "    else:\n",
    "        num2 -= num1\n",
    "\n",
    "print(\"Hcf of\", a, \"and\", b, \"is\", num1)"
   ]
  },
  {
   "cell_type": "code",
   "execution_count": null,
   "id": "3f7c43d4",
   "metadata": {},
   "outputs": [],
   "source": []
  }
 ],
 "metadata": {
  "kernelspec": {
   "display_name": "Python 3 (ipykernel)",
   "language": "python",
   "name": "python3"
  },
  "language_info": {
   "codemirror_mode": {
    "name": "ipython",
    "version": 3
   },
   "file_extension": ".py",
   "mimetype": "text/x-python",
   "name": "python",
   "nbconvert_exporter": "python",
   "pygments_lexer": "ipython3",
   "version": "3.9.7"
  }
 },
 "nbformat": 4,
 "nbformat_minor": 5
}
