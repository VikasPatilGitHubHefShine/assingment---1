{
 "cells": [
  {
   "cell_type": "code",
   "execution_count": 30,
   "id": "79389ad9",
   "metadata": {},
   "outputs": [],
   "source": [
    "# (1) Write a command to get the python version you are using.\n",
    "import sys"
   ]
  },
  {
   "cell_type": "code",
   "execution_count": 31,
   "id": "a011a972",
   "metadata": {},
   "outputs": [
    {
     "name": "stdout",
     "output_type": "stream",
     "text": [
      "3.9.7 (default, Sep 16 2021, 13:09:58) \n",
      "[GCC 7.5.0]\n"
     ]
    }
   ],
   "source": [
    "print(sys.version)"
   ]
  },
  {
   "cell_type": "code",
   "execution_count": 10,
   "id": "13883875",
   "metadata": {},
   "outputs": [
    {
     "name": "stdout",
     "output_type": "stream",
     "text": [
      "Hello python\n"
     ]
    }
   ],
   "source": [
    "# (2) Write a script to print Hello Python on the screen directly in the command line.\n",
    "\n",
    "print(\"Hello python\")"
   ]
  },
  {
   "cell_type": "code",
   "execution_count": 11,
   "id": "15dc8738",
   "metadata": {},
   "outputs": [],
   "source": [
    "# (3) Write a python script and store it in a file and execute the file from the command line."
   ]
  },
  {
   "cell_type": "code",
   "execution_count": 13,
   "id": "e2cbdf01",
   "metadata": {},
   "outputs": [
    {
     "name": "stdout",
     "output_type": "stream",
     "text": [
      "Hello python\n"
     ]
    }
   ],
   "source": [
    "# (4) Write a python script to print Hello python on the screen using visual studeo code.\n",
    "\n",
    "print(\"Hello python\")"
   ]
  },
  {
   "cell_type": "code",
   "execution_count": 32,
   "id": "0c277d25",
   "metadata": {},
   "outputs": [
    {
     "name": "stdout",
     "output_type": "stream",
     "text": [
      "Hello \n",
      "python\n"
     ]
    }
   ],
   "source": [
    "# (5) Write a python script to print Hello on the first line and Python on the second line.\n",
    "\n",
    "print(\"Hello \\npython\")"
   ]
  },
  {
   "cell_type": "code",
   "execution_count": 15,
   "id": "d2185c98",
   "metadata": {},
   "outputs": [
    {
     "name": "stdout",
     "output_type": "stream",
     "text": [
      "\"MysirG\"\n"
     ]
    }
   ],
   "source": [
    "# (6) Write a python script to print \"MysirG\" on the screen.\n",
    "\n",
    "print('\"MysirG\"')"
   ]
  },
  {
   "cell_type": "code",
   "execution_count": 1,
   "id": "d8e35199",
   "metadata": {},
   "outputs": [
    {
     "name": "stdout",
     "output_type": "stream",
     "text": [
      "\"Teacher's Day\"\n"
     ]
    }
   ],
   "source": [
    "# (7) Write a python script to \"Teacher's Day\" on the screen.\n",
    "\n",
    "print('''\"Teacher's Day\"''')"
   ]
  },
  {
   "cell_type": "code",
   "execution_count": 22,
   "id": "ca467e37",
   "metadata": {},
   "outputs": [
    {
     "name": "stdout",
     "output_type": "stream",
     "text": [
      "Vikas Patil\n"
     ]
    }
   ],
   "source": [
    "# (8) Write a python script to print the value of variable. Variable contains your names as data.\n",
    "\n",
    "Name = \"Vikas Patil\"\n",
    "\n",
    "print(Name)"
   ]
  },
  {
   "cell_type": "code",
   "execution_count": 27,
   "id": "0df82606",
   "metadata": {},
   "outputs": [
    {
     "name": "stdout",
     "output_type": "stream",
     "text": [
      "Hi i am vikas patil i am 23 year old, i did my graduation in BE Engineering in mechanical in 2022\n"
     ]
    }
   ],
   "source": [
    "# (9) Write a python script to create variable to store your name, age, qualification, yeares of experience and print it.\n",
    "\n",
    "name = \"vikas patil\"\n",
    "age = 23\n",
    "qualification = \"BE Engineering in mechanical\"\n",
    "years = 2022\n",
    "\n",
    "print(\"Hi i am\",name,\"i am\",age,\"year old, i did my graduation in\",qualification, \"in\",years)"
   ]
  },
  {
   "cell_type": "code",
   "execution_count": 36,
   "id": "f6b72e95",
   "metadata": {},
   "outputs": [
    {
     "name": "stdout",
     "output_type": "stream",
     "text": [
      "21\n",
      "22\n",
      "23\n"
     ]
    }
   ],
   "source": [
    "# (10) Write a python script to print the values of three variables, each in a new line. Variable contain integer values\n",
    "a = 21\n",
    "b = 22\n",
    "c = 23\n",
    "\n",
    "print(a,b,c,sep='\\n')"
   ]
  },
  {
   "cell_type": "code",
   "execution_count": null,
   "id": "20994709",
   "metadata": {},
   "outputs": [],
   "source": []
  }
 ],
 "metadata": {
  "kernelspec": {
   "display_name": "Python 3 (ipykernel)",
   "language": "python",
   "name": "python3"
  },
  "language_info": {
   "codemirror_mode": {
    "name": "ipython",
    "version": 3
   },
   "file_extension": ".py",
   "mimetype": "text/x-python",
   "name": "python",
   "nbconvert_exporter": "python",
   "pygments_lexer": "ipython3",
   "version": "3.9.7"
  }
 },
 "nbformat": 4,
 "nbformat_minor": 5
}
