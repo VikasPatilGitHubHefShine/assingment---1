{
 "cells": [
  {
   "cell_type": "code",
   "execution_count": 1,
   "id": "8fdf639c",
   "metadata": {},
   "outputs": [
    {
     "data": {
      "text/plain": [
       "'20.4'"
      ]
     },
     "execution_count": 1,
     "metadata": {},
     "output_type": "execute_result"
    }
   ],
   "source": [
    "# (1) Write a python script to convert a number into str type.\n",
    "\n",
    "a = 20.4\n",
    "str(a)"
   ]
  },
  {
   "cell_type": "code",
   "execution_count": 1,
   "id": "851e02d1",
   "metadata": {},
   "outputs": [
    {
     "data": {
      "text/plain": [
       "109"
      ]
     },
     "execution_count": 1,
     "metadata": {},
     "output_type": "execute_result"
    }
   ],
   "source": [
    "# (2) Write a python script to print Unicode of the character \"m\"\n",
    "\n",
    "a = \"m\"\n",
    "ord(a)"
   ]
  },
  {
   "cell_type": "code",
   "execution_count": 1,
   "id": "8afcdcea",
   "metadata": {},
   "outputs": [
    {
     "data": {
      "text/plain": [
       "'d'"
      ]
     },
     "execution_count": 1,
     "metadata": {},
     "output_type": "execute_result"
    }
   ],
   "source": [
    "# (3) Write a python script to print characters representation of a given unicode 100.\n",
    "\n",
    "a = 100\n",
    "chr(a)"
   ]
  },
  {
   "cell_type": "code",
   "execution_count": 6,
   "id": "13a81901",
   "metadata": {},
   "outputs": [
    {
     "name": "stdout",
     "output_type": "stream",
     "text": [
      "55 of binary is.. 0b110111\n"
     ]
    },
    {
     "data": {
      "text/plain": [
       "'0b110111'"
      ]
     },
     "execution_count": 6,
     "metadata": {},
     "output_type": "execute_result"
    }
   ],
   "source": [
    "# (4) Write a python script to print any number and its binary equivalent.\n",
    "\n",
    "A = 55\n",
    "print(A,\"of binary is..\",bin(55))"
   ]
  },
  {
   "cell_type": "code",
   "execution_count": 7,
   "id": "6bb934cf",
   "metadata": {},
   "outputs": [
    {
     "name": "stdout",
     "output_type": "stream",
     "text": [
      "65 is the octal of 0o101\n"
     ]
    }
   ],
   "source": [
    "# (5) Write a python script to print any number and its octal equivalent.\n",
    "\n",
    "A = 65\n",
    "print(A,\"is the octal of\",oct(A))"
   ]
  },
  {
   "cell_type": "code",
   "execution_count": 8,
   "id": "65fae16d",
   "metadata": {},
   "outputs": [
    {
     "name": "stdout",
     "output_type": "stream",
     "text": [
      "45 is the hexadecimal of 0x2d\n"
     ]
    }
   ],
   "source": [
    "# (6) Write a python script to print any number and its hexadecimal equivalent.\n",
    "\n",
    "A = 45\n",
    "print(A,\"is the hexadecimal of\",hex(45))"
   ]
  },
  {
   "cell_type": "code",
   "execution_count": 5,
   "id": "16701bed",
   "metadata": {},
   "outputs": [
    {
     "name": "stdout",
     "output_type": "stream",
     "text": [
      "101\n"
     ]
    }
   ],
   "source": [
    "# (7) Write a python script to store binary number 1100101 in a variable and print  it in decimal format.\n",
    "\n",
    "A = 0b1100101\n",
    "print(A)"
   ]
  },
  {
   "cell_type": "code",
   "execution_count": 8,
   "id": "3836dc14",
   "metadata": {},
   "outputs": [
    {
     "name": "stdout",
     "output_type": "stream",
     "text": [
      "0o57\n"
     ]
    }
   ],
   "source": [
    "# (8) Write a python script to store a hexadecimal number 2F in a variable and print it in octal format.\n",
    "\n",
    "A = 0x2F\n",
    "print(oct(A))"
   ]
  },
  {
   "cell_type": "code",
   "execution_count": 9,
   "id": "767b30fc",
   "metadata": {},
   "outputs": [
    {
     "name": "stdout",
     "output_type": "stream",
     "text": [
      "85 octal to binary 0b1010101\n"
     ]
    }
   ],
   "source": [
    "# (9) Write a python script to store an octal number 125 in a variable and print it in binary format.\n",
    "\n",
    "A = 0o125\n",
    "print(A,\"octal to binary\",bin(A))"
   ]
  },
  {
   "cell_type": "code",
   "execution_count": 12,
   "id": "6ae16c6d",
   "metadata": {},
   "outputs": [
    {
     "name": "stdout",
     "output_type": "stream",
     "text": [
      "0b101010b111001\n"
     ]
    }
   ],
   "source": [
    "# (10) Write a python script to add two  numbers 25 (in octal) and 39 (in hexadecimal) and display the result in binary format.\n",
    "\n",
    "A = bin(0o25)\n",
    "B = bin(0x39)\n",
    "print(A + B)"
   ]
  },
  {
   "cell_type": "code",
   "execution_count": 26,
   "id": "a6b2d3ef",
   "metadata": {},
   "outputs": [
    {
     "data": {
      "text/plain": [
       "'0b1010100011000'"
      ]
     },
     "execution_count": 26,
     "metadata": {},
     "output_type": "execute_result"
    }
   ],
   "source": [
    "bin(0o310*27)"
   ]
  },
  {
   "cell_type": "code",
   "execution_count": null,
   "id": "c4b2a767",
   "metadata": {},
   "outputs": [],
   "source": []
  }
 ],
 "metadata": {
  "kernelspec": {
   "display_name": "Python 3 (ipykernel)",
   "language": "python",
   "name": "python3"
  },
  "language_info": {
   "codemirror_mode": {
    "name": "ipython",
    "version": 3
   },
   "file_extension": ".py",
   "mimetype": "text/x-python",
   "name": "python",
   "nbconvert_exporter": "python",
   "pygments_lexer": "ipython3",
   "version": "3.9.7"
  }
 },
 "nbformat": 4,
 "nbformat_minor": 5
}
