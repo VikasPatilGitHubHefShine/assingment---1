{
 "cells": [
  {
   "cell_type": "code",
   "execution_count": 2,
   "id": "1075a775",
   "metadata": {},
   "outputs": [
    {
     "name": "stdout",
     "output_type": "stream",
     "text": [
      "\"Learning python\"\n"
     ]
    }
   ],
   "source": [
    "# (1) Write a script to add comment and print \"Learning python\" on screen.\n",
    "\n",
    "# Learning python\n",
    "print('\"Learning python\"')"
   ]
  },
  {
   "cell_type": "code",
   "execution_count": 15,
   "id": "1afb38ec",
   "metadata": {},
   "outputs": [
    {
     "name": "stdout",
     "output_type": "stream",
     "text": [
      "Amol\n",
      "Vikas\n",
      "Rahul\n",
      "prmod\n"
     ]
    }
   ],
   "source": [
    "\"\"\" (2) Write a python script to add multiline comments and print valvue of four variables,\n",
    "each in a new line. varable contain any value.\"\"\"\n",
    "\n",
    "a = \"Amol\"\n",
    "v = \"Vikas\"\n",
    "r = \"Rahul\"\n",
    "p = \"prmod\"\n",
    "\n",
    "print(a,v,r,p,sep='\\n')"
   ]
  },
  {
   "cell_type": "code",
   "execution_count": 16,
   "id": "c8a084a6",
   "metadata": {},
   "outputs": [
    {
     "name": "stdout",
     "output_type": "stream",
     "text": [
      "like 35 <class 'str'>\n",
      "True <class 'bool'>\n",
      "\"MysirG\" <class 'str'>\n",
      "5.46 <class 'float'>\n",
      "(3+4j) <class 'complex'>\n"
     ]
    }
   ],
   "source": [
    "# (3) Write a python script to type of veriables, Create 5 veriables each of them containing different types of data.\n",
    "\n",
    "a = \"like 35\"\n",
    "b = True\n",
    "c = '\"MysirG\"'\n",
    "d = 5.46\n",
    "e = 3+4j\n",
    "print(a,type(a))\n",
    "print(b,type(b))\n",
    "print(c,type(c))\n",
    "print(d,type(d))\n",
    "print(e,type(e))"
   ]
  },
  {
   "cell_type": "code",
   "execution_count": 17,
   "id": "b2c57939",
   "metadata": {},
   "outputs": [
    {
     "name": "stdout",
     "output_type": "stream",
     "text": [
      "140595257457648\n",
      "140595257457648\n"
     ]
    }
   ],
   "source": [
    "# (4) Write a python script to the id of two variables containing the same integer value.\n",
    "age = 23\n",
    "Age = 23\n",
    "\n",
    "print(id(age))\n",
    "print(id(Age))"
   ]
  },
  {
   "cell_type": "code",
   "execution_count": 1,
   "id": "df432ada",
   "metadata": {},
   "outputs": [
    {
     "name": "stdout",
     "output_type": "stream",
     "text": [
      "139947418065136 <class 'str'>\n",
      "139947417607984 <class 'int'>\n",
      "139947417604528 <class 'float'>\n",
      "139947417604368 <class 'complex'>\n"
     ]
    }
   ],
   "source": [
    "# (5) Create four variables in python script and assing values of different data types to them.\n",
    "# Write a python script to print value it's type and id of each variables.\n",
    "\n",
    "a = \"Vikas\"\n",
    "b = 4012\n",
    "c = 40.12\n",
    "d = 4+3j\n",
    "\n",
    "print(id(a),type(a))\n",
    "print(id(b),type(b))\n",
    "print(id(c),type(c))\n",
    "print(id(d),type(d))"
   ]
  },
  {
   "cell_type": "code",
   "execution_count": 19,
   "id": "d256cf16",
   "metadata": {},
   "outputs": [
    {
     "name": "stdout",
     "output_type": "stream",
     "text": [
      "['False', 'None', 'True', '__peg_parser__', 'and', 'as', 'assert', 'async', 'await', 'break', 'class', 'continue', 'def', 'del', 'elif', 'else', 'except', 'finally', 'for', 'from', 'global', 'if', 'import', 'in', 'is', 'lambda', 'nonlocal', 'not', 'or', 'pass', 'raise', 'return', 'try', 'while', 'with', 'yield']\n"
     ]
    }
   ],
   "source": [
    "# (6) Write python script to print all keywords.\n",
    "import keyword\n",
    "print(keyword.kwlist)"
   ]
  },
  {
   "cell_type": "code",
   "execution_count": 1,
   "id": "56c5c468",
   "metadata": {},
   "outputs": [
    {
     "data": {
      "text/plain": [
       "Type help() for interactive help, or help(object) for help about object."
      ]
     },
     "execution_count": 1,
     "metadata": {},
     "output_type": "execute_result"
    }
   ],
   "source": [
    "# (7) On python shell use help() function and display the list of keyword.\n",
    "help"
   ]
  },
  {
   "cell_type": "code",
   "execution_count": 11,
   "id": "14806df8",
   "metadata": {},
   "outputs": [],
   "source": [
    "# (8) Create two python files A0.py and A1.py Creat a veriable in A1.py and assing some value to it.\n",
    "# Write a python script to import A1.py module in A0 and print value of the variable create in A0.py\n",
    "\n"
   ]
  },
  {
   "cell_type": "code",
   "execution_count": 22,
   "id": "61a0ee3c",
   "metadata": {},
   "outputs": [],
   "source": [
    "# (9) Name the keywords, used as data in the python script.\n",
    "\n",
    "True\n",
    "False\n",
    "None\n"
   ]
  },
  {
   "cell_type": "code",
   "execution_count": 27,
   "id": "453914ca",
   "metadata": {},
   "outputs": [
    {
     "name": "stdout",
     "output_type": "stream",
     "text": [
      "2022-08-24 19:25:15.850748\n"
     ]
    }
   ],
   "source": [
    "# (10) Write the python script to disply the current date and time.\n",
    "# first create variable to store date and time, then display date and time in proper format.(like:13-8-2022 & 09:00PM)\n",
    "\n",
    "from datetime import datetime\n",
    "dt = datetime.today();\n",
    "print(dt)"
   ]
  },
  {
   "cell_type": "code",
   "execution_count": 40,
   "id": "0c8f83e4",
   "metadata": {},
   "outputs": [
    {
     "name": "stdout",
     "output_type": "stream",
     "text": [
      "24-08-22 and 07:25 pm\n"
     ]
    }
   ],
   "source": [
    "d1 = dt.strftime(\"%d-%m-%y and %I:%M %P\")\n",
    "print(d1)"
   ]
  },
  {
   "cell_type": "code",
   "execution_count": 31,
   "id": "4f336f16",
   "metadata": {},
   "outputs": [
    {
     "data": {
      "text/plain": [
       "'24-08-22 and 07:25 pm'"
      ]
     },
     "execution_count": 31,
     "metadata": {},
     "output_type": "execute_result"
    }
   ],
   "source": [
    "dt = dt.strftime(\"\")"
   ]
  }
 ],
 "metadata": {
  "kernelspec": {
   "display_name": "Python 3 (ipykernel)",
   "language": "python",
   "name": "python3"
  },
  "language_info": {
   "codemirror_mode": {
    "name": "ipython",
    "version": 3
   },
   "file_extension": ".py",
   "mimetype": "text/x-python",
   "name": "python",
   "nbconvert_exporter": "python",
   "pygments_lexer": "ipython3",
   "version": "3.9.7"
  }
 },
 "nbformat": 4,
 "nbformat_minor": 5
}
