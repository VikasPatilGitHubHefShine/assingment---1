{
 "cells": [
  {
   "cell_type": "code",
   "execution_count": 51,
   "id": "04206983",
   "metadata": {},
   "outputs": [
    {
     "name": "stdout",
     "output_type": "stream",
     "text": [
      "Enter a name:5\n",
      "VIKAS, VIKAS, VIKAS, VIKAS, VIKAS, "
     ]
    }
   ],
   "source": [
    "# (1) Write a python script to print VIKAS N times on the screen.\n",
    "\n",
    "A = int(input(\"Enter a name:\"))\n",
    "i = 1\n",
    "\n",
    "while i<=A:\n",
    "    print(\"VIKAS\",end=\", \")\n",
    "    i += 1"
   ]
  },
  {
   "cell_type": "code",
   "execution_count": 1,
   "id": "f4138eed",
   "metadata": {},
   "outputs": [
    {
     "name": "stdout",
     "output_type": "stream",
     "text": [
      "Enter a number:10\n",
      "1 2 3 4 5 6 7 8 9 10 "
     ]
    }
   ],
   "source": [
    "# (2) Write a python script to print first N natural numbers.\n",
    "\n",
    "A = int(input(\"Enter a number:\"))\n",
    "i = 1\n",
    "\n",
    "while i<=A:\n",
    "    print(i,end=\" \")\n",
    "    i += 1"
   ]
  },
  {
   "cell_type": "code",
   "execution_count": 9,
   "id": "e0a9a3ec",
   "metadata": {},
   "outputs": [
    {
     "name": "stdout",
     "output_type": "stream",
     "text": [
      "Enter a number:10\n",
      "10 9 8 7 6 5 4 3 2 1 "
     ]
    }
   ],
   "source": [
    "# (3) Write a python script to print first N natural numbers in revers order.\n",
    "\n",
    "A = int(input(\"Enter a number:\"))\n",
    "i = 1\n",
    "\n",
    "while i<=A:\n",
    "    print(A-i+1,end=\" \")\n",
    "    i += 1"
   ]
  },
  {
   "cell_type": "code",
   "execution_count": 39,
   "id": "d09901ef",
   "metadata": {},
   "outputs": [
    {
     "name": "stdout",
     "output_type": "stream",
     "text": [
      "Enter a number:10\n",
      "1 3 5 7 9 "
     ]
    }
   ],
   "source": [
    "# (4) Write a python script to print first N odd numbers.\n",
    "\n",
    "A = int(input(\"Enter a number:\"))\n",
    "i = 1\n",
    "\n",
    "while i<=A:\n",
    "    print(i,end=\" \")\n",
    "    i += 2"
   ]
  },
  {
   "cell_type": "code",
   "execution_count": 46,
   "id": "5740ac21",
   "metadata": {},
   "outputs": [
    {
     "name": "stdout",
     "output_type": "stream",
     "text": [
      "Enter a number:10\n",
      "9 7 5 3 1 "
     ]
    }
   ],
   "source": [
    "# (5) Write a python script to print first N odd numbers in revers order.\n",
    "\n",
    "A = int(input(\"Enter a number:\"))\n",
    "i = 0\n",
    "\n",
    "while i <= A:\n",
    "    B = A-i\n",
    "    if B%2 !=0:\n",
    "        print(B,end=\" \")\n",
    "    i += 1"
   ]
  },
  {
   "cell_type": "code",
   "execution_count": 37,
   "id": "f9da0515",
   "metadata": {},
   "outputs": [
    {
     "name": "stdout",
     "output_type": "stream",
     "text": [
      "Enter a number:9\n",
      "2\n",
      "4\n",
      "6\n",
      "8\n"
     ]
    }
   ],
   "source": [
    "# (6) Write a python script to print first N even natural numbers.\n",
    "\n",
    "A = int(input(\"Enter a number:\"))\n",
    "i = 2\n",
    "\n",
    "while i <= A:\n",
    "    print(i)\n",
    "    i+=2"
   ]
  },
  {
   "cell_type": "code",
   "execution_count": 1,
   "id": "cf830478",
   "metadata": {},
   "outputs": [
    {
     "name": "stdout",
     "output_type": "stream",
     "text": [
      "Enter a number: 10\n",
      "8 6 4 2 0 "
     ]
    }
   ],
   "source": [
    "# (7) Write a python script to print first N even natural numbes in revers order.\n",
    "\n",
    "A = int(input(\"Enter a number: \"))\n",
    "i = 1\n",
    "\n",
    "while i <= A:\n",
    "    B = A - i\n",
    "    if B%2 == 0:\n",
    "        print(B,end=\" \")\n",
    "    i += 1"
   ]
  },
  {
   "cell_type": "code",
   "execution_count": 39,
   "id": "f13fec23",
   "metadata": {},
   "outputs": [
    {
     "name": "stdout",
     "output_type": "stream",
     "text": [
      "Enter a number:5\n",
      "1\n",
      "4\n",
      "9\n",
      "16\n",
      "25\n"
     ]
    }
   ],
   "source": [
    "# (8) Write a python script to print square of first N natural numbers.\n",
    "\n",
    "A = int(input(\"Enter a number:\"))\n",
    "i = 1\n",
    "\n",
    "while i <= A:\n",
    "    print(i**2)\n",
    "    i += 1"
   ]
  },
  {
   "cell_type": "code",
   "execution_count": 41,
   "id": "bd752914",
   "metadata": {},
   "outputs": [
    {
     "name": "stdout",
     "output_type": "stream",
     "text": [
      "Enter a number:5\n",
      "1, 8, 27, 64, 125, "
     ]
    }
   ],
   "source": [
    "# (9) Write a python script to print cubes of first N natural numbers.\n",
    "\n",
    "A = int(input(\"Enter a number:\"))\n",
    "i = 1\n",
    "\n",
    "while i <= A:\n",
    "    print(i**3,end=\", \")\n",
    "    i += 1"
   ]
  },
  {
   "cell_type": "code",
   "execution_count": 54,
   "id": "8d4daf05",
   "metadata": {},
   "outputs": [
    {
     "name": "stdout",
     "output_type": "stream",
     "text": [
      "enter a number:5\n",
      "5, 10, 15, 20, 25, 30, 35, 40, 45, 50, "
     ]
    }
   ],
   "source": [
    "# (10) Write a python script to print first 10 multiple of N.\n",
    "\n",
    "A = int(input(\"enter a number:\"))\n",
    "i = 1\n",
    "\n",
    "while i <= 10:\n",
    "    print(i*A,end=\", \")\n",
    "    i += 1"
   ]
  }
 ],
 "metadata": {
  "kernelspec": {
   "display_name": "Python 3 (ipykernel)",
   "language": "python",
   "name": "python3"
  },
  "language_info": {
   "codemirror_mode": {
    "name": "ipython",
    "version": 3
   },
   "file_extension": ".py",
   "mimetype": "text/x-python",
   "name": "python",
   "nbconvert_exporter": "python",
   "pygments_lexer": "ipython3",
   "version": "3.9.7"
  }
 },
 "nbformat": 4,
 "nbformat_minor": 5
}
