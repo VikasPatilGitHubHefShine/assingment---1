{
 "cells": [
  {
   "cell_type": "code",
   "execution_count": 6,
   "id": "261c5083",
   "metadata": {},
   "outputs": [
    {
     "name": "stdout",
     "output_type": "stream",
     "text": [
      "1 VIKAS\n",
      "2 VIKAS\n",
      "3 VIKAS\n",
      "4 VIKAS\n",
      "5 VIKAS\n"
     ]
    }
   ],
   "source": [
    "# (1) Write a python script to print VIKAS 5 times on the screen.\n",
    "\n",
    "name = \"VIKAS\"\n",
    "i=1\n",
    "while i<=5:\n",
    "    print(i,name)\n",
    "    i += 1"
   ]
  },
  {
   "cell_type": "code",
   "execution_count": 1,
   "id": "04f87174",
   "metadata": {},
   "outputs": [
    {
     "name": "stdout",
     "output_type": "stream",
     "text": [
      "1 2 3 4 5 6 7 8 9 10 "
     ]
    }
   ],
   "source": [
    "# (2) Write a python script to print first 10 natural numbers.\n",
    "\n",
    "i = 1\n",
    "\n",
    "while i<=10:\n",
    "    print(i,end=\" \")\n",
    "    i+=1"
   ]
  },
  {
   "cell_type": "code",
   "execution_count": 2,
   "id": "30037efa",
   "metadata": {},
   "outputs": [
    {
     "name": "stdout",
     "output_type": "stream",
     "text": [
      "10 9 8 7 6 5 4 3 2 1 "
     ]
    }
   ],
   "source": [
    "# (3) Write a python script to print first 10 natural numbers in revers order.\n",
    "\n",
    "i = 10\n",
    "\n",
    "while i>=1:\n",
    "    print(i,end=\" \")\n",
    "    i-=1"
   ]
  },
  {
   "cell_type": "code",
   "execution_count": 3,
   "id": "5b648043",
   "metadata": {},
   "outputs": [
    {
     "name": "stdout",
     "output_type": "stream",
     "text": [
      "1 3 5 7 9 11 13 15 17 19 "
     ]
    }
   ],
   "source": [
    "# (4) Write a python script to print first 10 odd numbers.\n",
    "\n",
    "i = 1\n",
    "\n",
    "while i<=20:\n",
    "    print(i,end=\" \")\n",
    "    i+=2"
   ]
  },
  {
   "cell_type": "code",
   "execution_count": 4,
   "id": "c66827d0",
   "metadata": {},
   "outputs": [
    {
     "name": "stdout",
     "output_type": "stream",
     "text": [
      "19 17 15 13 11 9 7 5 3 1 "
     ]
    }
   ],
   "source": [
    "# (5) Write a python script to print first 10 odd numbers in revers order.\n",
    "\n",
    "i = 20\n",
    "\n",
    "while i >= 1:\n",
    "    if i%2 != 0:\n",
    "        print(i,end=\" \")\n",
    "    i -= 1\n",
    "    "
   ]
  },
  {
   "cell_type": "code",
   "execution_count": 5,
   "id": "71a6bb9a",
   "metadata": {},
   "outputs": [
    {
     "name": "stdout",
     "output_type": "stream",
     "text": [
      "2 4 6 8 10 12 14 16 18 20 "
     ]
    }
   ],
   "source": [
    "# (6) Write a python script to print first 10 even natural numbers.\n",
    "\n",
    "i = 2\n",
    "\n",
    "while i<=20:\n",
    "    print(i,end=\" \")\n",
    "    i+=2"
   ]
  },
  {
   "cell_type": "code",
   "execution_count": 6,
   "id": "8d72b6bc",
   "metadata": {},
   "outputs": [
    {
     "name": "stdout",
     "output_type": "stream",
     "text": [
      "20 18 16 14 12 10 8 6 4 2 "
     ]
    }
   ],
   "source": [
    "# (7) Write a python script to print first 10 even natural numbes in revers order.\n",
    "\n",
    "i = 20\n",
    "\n",
    "while i >= 1:\n",
    "    print(i,end=\" \")\n",
    "    i -= 2"
   ]
  },
  {
   "cell_type": "code",
   "execution_count": 22,
   "id": "07e3dfe5",
   "metadata": {},
   "outputs": [
    {
     "name": "stdout",
     "output_type": "stream",
     "text": [
      "1  **  2 = 1\n",
      "2  **  2 = 4\n",
      "3  **  2 = 9\n",
      "4  **  2 = 16\n",
      "5  **  2 = 25\n",
      "6  **  2 = 36\n",
      "7  **  2 = 49\n",
      "8  **  2 = 64\n",
      "9  **  2 = 81\n",
      "10  **  2 = 100\n"
     ]
    }
   ],
   "source": [
    "# (8) Write a python script to print square of first 10 natural numbers.\n",
    "\n",
    "i = 1\n",
    "\n",
    "while i <= 10:\n",
    "    print(i,\" ** \", 2,\"=\",i**2)\n",
    "    i += 1"
   ]
  },
  {
   "cell_type": "code",
   "execution_count": 24,
   "id": "5faaa154",
   "metadata": {},
   "outputs": [
    {
     "name": "stdout",
     "output_type": "stream",
     "text": [
      "1  **  3 = 1\n",
      "2  **  3 = 8\n",
      "3  **  3 = 27\n",
      "4  **  3 = 64\n",
      "5  **  3 = 125\n",
      "6  **  3 = 216\n",
      "7  **  3 = 343\n",
      "8  **  3 = 512\n",
      "9  **  3 = 729\n",
      "10  **  3 = 1000\n"
     ]
    }
   ],
   "source": [
    "# (9) Write a python script to print cubes of first 10 natural numbers.\n",
    "\n",
    "i = 1\n",
    "\n",
    "while i <= 10:\n",
    "    print(i,\" ** \",3,\"=\",i**3)\n",
    "    i += 1"
   ]
  },
  {
   "cell_type": "code",
   "execution_count": 8,
   "id": "e3a0d4f0",
   "metadata": {},
   "outputs": [
    {
     "name": "stdout",
     "output_type": "stream",
     "text": [
      "0 5 10 15 20 25 30 35 40 45 50 "
     ]
    }
   ],
   "source": [
    "# (10) Write a python script to print first 10 multiple of five.\n",
    "\n",
    "i = 0\n",
    "\n",
    "while i <= 10:\n",
    "    print(i*5,end=\" \")\n",
    "    i += 1"
   ]
  },
  {
   "cell_type": "code",
   "execution_count": null,
   "id": "cf6ad06e",
   "metadata": {},
   "outputs": [],
   "source": [
    "1000"
   ]
  }
 ],
 "metadata": {
  "kernelspec": {
   "display_name": "Python 3 (ipykernel)",
   "language": "python",
   "name": "python3"
  },
  "language_info": {
   "codemirror_mode": {
    "name": "ipython",
    "version": 3
   },
   "file_extension": ".py",
   "mimetype": "text/x-python",
   "name": "python",
   "nbconvert_exporter": "python",
   "pygments_lexer": "ipython3",
   "version": "3.9.7"
  }
 },
 "nbformat": 4,
 "nbformat_minor": 5
}
