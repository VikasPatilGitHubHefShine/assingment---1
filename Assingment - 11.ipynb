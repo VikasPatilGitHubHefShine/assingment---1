{
 "cells": [
  {
   "cell_type": "code",
   "execution_count": 10,
   "id": "568dc6af",
   "metadata": {},
   "outputs": [
    {
     "name": "stdout",
     "output_type": "stream",
     "text": [
      "Enter the netural number:5\n",
      "the sum of 0 natural number is: 15\n"
     ]
    }
   ],
   "source": [
    "# (1) Write a python script to calculate sum of first N natural numbers.\n",
    "\n",
    "A = eval(input(\"Enter the netural number:\"))\n",
    "i = 0\n",
    "\n",
    "while A>0:\n",
    "    i=i+A\n",
    "    A-=1\n",
    "print(\"the sum of\",A,\"natural number is:\", i)\n",
    "    "
   ]
  },
  {
   "cell_type": "code",
   "execution_count": 18,
   "id": "5b0b9672",
   "metadata": {},
   "outputs": [
    {
     "name": "stdout",
     "output_type": "stream",
     "text": [
      "Enter the number: 5\n",
      "The sum of square 225\n"
     ]
    }
   ],
   "source": [
    "# (2) Write a python script to calculate sum of square of first N natural numbers.\n",
    "\n",
    "A = int(input(\"Enter the number: \"))\n",
    "i = 0\n",
    "while A>0:\n",
    "    i=i + A\n",
    "    A-=1\n",
    "print(\"The sum of square\",i**2)"
   ]
  },
  {
   "cell_type": "code",
   "execution_count": 16,
   "id": "5bdff124",
   "metadata": {},
   "outputs": [
    {
     "name": "stdout",
     "output_type": "stream",
     "text": [
      "Enter the natural number:5\n",
      "Sum of cubes of 3375\n"
     ]
    }
   ],
   "source": [
    "# (3) Write a python script to calculate sum of cubes of first N natural numbers.\n",
    "\n",
    "num = eval(input(\"Enter the natural number:\"))\n",
    "i = 0\n",
    "while num > 0:\n",
    "    i = i + num\n",
    "    num-=1\n",
    "print(\"Sum of cubes of\",i**3)"
   ]
  },
  {
   "cell_type": "code",
   "execution_count": 15,
   "id": "90f2522f",
   "metadata": {},
   "outputs": [
    {
     "name": "stdout",
     "output_type": "stream",
     "text": [
      "Enter the natural number: 5\n",
      "9\n"
     ]
    }
   ],
   "source": [
    "# (4) Write a python script to calculate sum of first N odd natural numbers.\n",
    "\n",
    "num = int(input(\"Enter the natural number: \"))\n",
    "i = 0\n",
    "\n",
    "while num > 0:\n",
    "    if num%2 != 0:\n",
    "        i = i + num\n",
    "    num -= 1\n",
    "print(i)"
   ]
  },
  {
   "cell_type": "code",
   "execution_count": 20,
   "id": "a8c6ab32",
   "metadata": {},
   "outputs": [
    {
     "name": "stdout",
     "output_type": "stream",
     "text": [
      "Enter the natural number: 5\n",
      "6\n"
     ]
    }
   ],
   "source": [
    "# (5) write a python script to calculate sum of first even natural number\n",
    "\n",
    "num = int(input(\"Enter the natural number: \"))\n",
    "i = 0\n",
    "\n",
    "while num > 0:\n",
    "    if num%2 == 0:\n",
    "        i = i + num\n",
    "    num -= 1\n",
    "print(i)"
   ]
  },
  {
   "cell_type": "code",
   "execution_count": 38,
   "id": "b293f079",
   "metadata": {},
   "outputs": [
    {
     "name": "stdout",
     "output_type": "stream",
     "text": [
      "Enter the number: 5\n",
      "120\n"
     ]
    }
   ],
   "source": [
    "# (6) Write a python script to calculate factorial of a given number.\n",
    "\n",
    "num = int(input(\"Enter the number: \"))\n",
    "f = 1\n",
    "\n",
    "for i in range(1,num+1):\n",
    "    f = f * i\n",
    "print(f)"
   ]
  },
  {
   "cell_type": "code",
   "execution_count": 54,
   "id": "c1447665",
   "metadata": {},
   "outputs": [
    {
     "name": "stdout",
     "output_type": "stream",
     "text": [
      "Enter the number: 5\n",
      "Number of digits: 1\n"
     ]
    }
   ],
   "source": [
    "# (7) Write a python script to count digit in a given number.\n",
    "\n",
    "num = int(input(\"Enter the number: \"))\n",
    "count = 0\n",
    "\n",
    "while num != 0:\n",
    "    num //= 10\n",
    "    count += 1\n",
    "\n",
    "print(\"Number of digits: \" + str(count))"
   ]
  },
  {
   "cell_type": "code",
   "execution_count": 16,
   "id": "d83956ad",
   "metadata": {},
   "outputs": [
    {
     "name": "stdout",
     "output_type": "stream",
     "text": [
      "Enter the number: 45656\n",
      "Number of digits:  15\n"
     ]
    }
   ],
   "source": [
    "# (8) Write a python script to sum of digit of a given number.\n",
    "\n",
    "\n",
    "num = int(input(\"Enter the number: \"))\n",
    "count = 0\n",
    "\n",
    "while num != 0:\n",
    "    num //= 10\n",
    "    count += 1\n",
    "    \n",
    "    digit = count\n",
    "i = 0\n",
    "while digit > 0:\n",
    "    i = i + digit\n",
    "    digit -= 1\n",
    "\n",
    "print(\"Number of digits: \",i)"
   ]
  },
  {
   "cell_type": "code",
   "execution_count": 23,
   "id": "e05b2583",
   "metadata": {},
   "outputs": [
    {
     "name": "stdout",
     "output_type": "stream",
     "text": [
      "Enter a number: 56\n",
      "Binary Equivalent is: \n",
      "1 1 1 0 0 0 "
     ]
    }
   ],
   "source": [
    "# (9) Write a python script to print binary equivalent of a given decimal number.(do not use bin()method)\n",
    "\n",
    "n=int(input(\"Enter a number: \"))\n",
    "a=[]\n",
    "\n",
    "while n>0:\n",
    "    dig=n%2\n",
    "    a.append(dig)\n",
    "    n=n//2\n",
    "a.reverse()\n",
    "\n",
    "print(\"Binary Equivalent is: \")\n",
    "for i in a:\n",
    "    print(i,end=\" \")"
   ]
  },
  {
   "cell_type": "code",
   "execution_count": 26,
   "id": "7d7d6a4d",
   "metadata": {},
   "outputs": [
    {
     "name": "stdout",
     "output_type": "stream",
     "text": [
      "Enter a decimal integer greater than 0: 55\n",
      "The octal representation is 67 \n"
     ]
    }
   ],
   "source": [
    "# (10) Write a python script to print the octal equivalent of a given decimal number.(do not use oct() method)\n",
    "\n",
    "num = int(input(\"Enter a decimal integer greater than 0: \"))\n",
    "\n",
    "bstring = \" \"\n",
    "\n",
    "while num > 0:\n",
    "    remainder = num % 8\n",
    "    num = num // 8\n",
    "    bstring = str(remainder) + bstring\n",
    "\n",
    "print(\"The octal representation is\", bstring)"
   ]
  },
  {
   "cell_type": "code",
   "execution_count": null,
   "id": "9cae7bdb",
   "metadata": {},
   "outputs": [],
   "source": []
  }
 ],
 "metadata": {
  "kernelspec": {
   "display_name": "Python 3 (ipykernel)",
   "language": "python",
   "name": "python3"
  },
  "language_info": {
   "codemirror_mode": {
    "name": "ipython",
    "version": 3
   },
   "file_extension": ".py",
   "mimetype": "text/x-python",
   "name": "python",
   "nbconvert_exporter": "python",
   "pygments_lexer": "ipython3",
   "version": "3.9.7"
  }
 },
 "nbformat": 4,
 "nbformat_minor": 5
}
