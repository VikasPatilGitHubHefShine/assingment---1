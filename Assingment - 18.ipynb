{
 "cells": [
  {
   "cell_type": "code",
   "execution_count": 4,
   "id": "3350d770",
   "metadata": {},
   "outputs": [
    {
     "name": "stdout",
     "output_type": "stream",
     "text": [
      "{'name': 'vikas', 'age': 23, 'gender': 'male', 'roll': 65}\n"
     ]
    }
   ],
   "source": [
    "# (1) Write a python program to create and print a dictionary which stores your information.\n",
    "\n",
    "my_dict = {\"name\":\"vikas\",\"age\":23,\"gender\":\"male\",\"roll\":65}\n",
    "\n",
    "print(my_dict)"
   ]
  },
  {
   "cell_type": "code",
   "execution_count": 7,
   "id": "42ab6ac0",
   "metadata": {},
   "outputs": [
    {
     "name": "stdout",
     "output_type": "stream",
     "text": [
      "vikas\n"
     ]
    }
   ],
   "source": [
    "# (2) Write a python program to access the items of a dictionary by refering to its key name.\n",
    "\n",
    "my_dict = {\"name\":\"vikas\",\"age\":23,\"gender\":\"male\",\"division\":\"B\"}\n",
    "\n",
    "print(my_dict[\"name\"])"
   ]
  },
  {
   "cell_type": "code",
   "execution_count": 17,
   "id": "b97bfc6d",
   "metadata": {},
   "outputs": [
    {
     "name": "stdout",
     "output_type": "stream",
     "text": [
      "The list of my_dict value is: ['vikas', 23, 'male', 'B']\n"
     ]
    }
   ],
   "source": [
    "# (3) Write a python program to get a list of the values from  a dictionary.\n",
    "\n",
    "my_dict = {\"name\":\"vikas\",\"age\":23,\"gender\":\"male\",\"division\":\"B\"}\n",
    "\n",
    "values = list(my_dict.values())\n",
    "\n",
    "print(\"The list of my_dict value is:\",values)"
   ]
  },
  {
   "cell_type": "code",
   "execution_count": 9,
   "id": "4eecfcae",
   "metadata": {},
   "outputs": [],
   "source": [
    "# (4) Write a python program to change the value of a specific item by refering to its key name.\n",
    "\n"
   ]
  },
  {
   "cell_type": "code",
   "execution_count": 10,
   "id": "61244f31",
   "metadata": {},
   "outputs": [],
   "source": [
    "# (5) Write a python program to print all key names in the dictionary ,one by one.\n"
   ]
  },
  {
   "cell_type": "code",
   "execution_count": 11,
   "id": "1524fc84",
   "metadata": {},
   "outputs": [],
   "source": [
    "# (6) Write a python program to create a dictionary that contain three dictionaries.(nested)\n"
   ]
  },
  {
   "cell_type": "code",
   "execution_count": 12,
   "id": "59f9e2ac",
   "metadata": {},
   "outputs": [],
   "source": [
    "# (7) Write a python program to create three dictionaries, then create one dictionary that will contain the other three dictionaries\n"
   ]
  },
  {
   "cell_type": "code",
   "execution_count": 13,
   "id": "60fce45c",
   "metadata": {},
   "outputs": [],
   "source": [
    "# (8) Write a python program to convert two list into a dictionary in a way that item from list1 is the key and item list2 is the value.\n"
   ]
  },
  {
   "cell_type": "code",
   "execution_count": 14,
   "id": "2117d31a",
   "metadata": {},
   "outputs": [],
   "source": [
    "# (9) Write a python program to merge two python dictionaries into one dictionary.\n"
   ]
  },
  {
   "cell_type": "code",
   "execution_count": null,
   "id": "43c174ca",
   "metadata": {},
   "outputs": [],
   "source": [
    "# (10) Write a python program to get the key of lowest value from the dictionary.\n",
    "\n",
    "samlpe = {\"C\":92,\"JAVA\":66,\"Python\":85}\n"
   ]
  }
 ],
 "metadata": {
  "kernelspec": {
   "display_name": "Python 3 (ipykernel)",
   "language": "python",
   "name": "python3"
  },
  "language_info": {
   "codemirror_mode": {
    "name": "ipython",
    "version": 3
   },
   "file_extension": ".py",
   "mimetype": "text/x-python",
   "name": "python",
   "nbconvert_exporter": "python",
   "pygments_lexer": "ipython3",
   "version": "3.9.7"
  }
 },
 "nbformat": 4,
 "nbformat_minor": 5
}
